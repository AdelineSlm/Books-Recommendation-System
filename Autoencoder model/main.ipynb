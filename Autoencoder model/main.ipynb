{
 "cells": [
  {
   "cell_type": "markdown",
   "metadata": {
    "id": "OIQJ9bM4MSPL"
   },
   "source": [
    "# RecSys by books: solution with autoencoder"
   ]
  },
  {
   "cell_type": "markdown",
   "metadata": {
    "id": "s3qWY0M5LA6r"
   },
   "source": [
    "## Customization and import"
   ]
  },
  {
   "cell_type": "code",
   "execution_count": 5,
   "metadata": {
    "id": "K2_VhyWeteMB"
   },
   "outputs": [],
   "source": [
    "import os\n",
    "from typing import Dict, List\n",
    "\n",
    "import matplotlib.pyplot as plt\n",
    "import numpy as np\n",
    "import pandas as pd\n",
    "import seaborn as sns\n",
    "import torch\n",
    "from matplotlib import gridspec\n",
    "from scipy import sparse\n",
    "from torch.utils.tensorboard import SummaryWriter\n",
    "from torchvision import datasets, transforms\n",
    "from tqdm.notebook import tqdm"
   ]
  },
  {
   "cell_type": "code",
   "execution_count": 6,
   "metadata": {
    "id": "UCn8xDPhteMB"
   },
   "outputs": [],
   "source": [
    "import warnings\n",
    "\n",
    "warnings.filterwarnings(\"ignore\")"
   ]
  },
  {
   "cell_type": "code",
   "execution_count": 7,
   "metadata": {
    "id": "WF45BXo5MWuU"
   },
   "outputs": [
    {
     "data": {
      "text/plain": [
       "device(type='cpu')"
      ]
     },
     "execution_count": 7,
     "metadata": {},
     "output_type": "execute_result"
    }
   ],
   "source": [
    "device = torch.device(\"cuda\" if torch.cuda.is_available() else \"cpu\")\n",
    "device"
   ]
  },
  {
   "cell_type": "code",
   "execution_count": 8,
   "metadata": {},
   "outputs": [
    {
     "data": {
      "text/plain": [
       "<torch._C.Generator at 0x7f7311763090>"
      ]
     },
     "execution_count": 8,
     "metadata": {},
     "output_type": "execute_result"
    }
   ],
   "source": [
    "np.random.seed(42)\n",
    "torch.manual_seed(42)"
   ]
  },
  {
   "cell_type": "markdown",
   "metadata": {},
   "source": [
    "## Data"
   ]
  },
  {
   "cell_type": "markdown",
   "metadata": {},
   "source": [
    "Significant description of books"
   ]
  },
  {
   "cell_type": "code",
   "execution_count": 9,
   "metadata": {},
   "outputs": [],
   "source": [
    "df_1 = pd.read_csv(\n",
    "    \"./data/Books.csv\",\n",
    "    names=[\n",
    "        \"book_id\",\n",
    "        \"book_title\",\n",
    "        \"book_author\",\n",
    "        \"publ_year\",\n",
    "        \"publiser\",\n",
    "        \"image_url_s\",\n",
    "        \"image_url_m\",\n",
    "        \"image_url_l\",\n",
    "    ],\n",
    ")"
   ]
  },
  {
   "cell_type": "code",
   "execution_count": 10,
   "metadata": {
    "scrolled": true
   },
   "outputs": [
    {
     "data": {
      "text/html": [
       "<div>\n",
       "<style scoped>\n",
       "    .dataframe tbody tr th:only-of-type {\n",
       "        vertical-align: middle;\n",
       "    }\n",
       "\n",
       "    .dataframe tbody tr th {\n",
       "        vertical-align: top;\n",
       "    }\n",
       "\n",
       "    .dataframe thead th {\n",
       "        text-align: right;\n",
       "    }\n",
       "</style>\n",
       "<table border=\"1\" class=\"dataframe\">\n",
       "  <thead>\n",
       "    <tr style=\"text-align: right;\">\n",
       "      <th></th>\n",
       "      <th>book_id</th>\n",
       "      <th>book_title</th>\n",
       "      <th>book_author</th>\n",
       "      <th>publ_year</th>\n",
       "      <th>publiser</th>\n",
       "      <th>image_url_s</th>\n",
       "      <th>image_url_m</th>\n",
       "      <th>image_url_l</th>\n",
       "    </tr>\n",
       "  </thead>\n",
       "  <tbody>\n",
       "    <tr>\n",
       "      <th>103740</th>\n",
       "      <td>0671732838</td>\n",
       "      <td>SIX WEEKS TO WORDS OF POWER</td>\n",
       "      <td>Wilfred Funk</td>\n",
       "      <td>1990</td>\n",
       "      <td>Pocket</td>\n",
       "      <td>http://images.amazon.com/images/P/0671732838.0...</td>\n",
       "      <td>http://images.amazon.com/images/P/0671732838.0...</td>\n",
       "      <td>http://images.amazon.com/images/P/0671732838.0...</td>\n",
       "    </tr>\n",
       "    <tr>\n",
       "      <th>195299</th>\n",
       "      <td>3789119520</td>\n",
       "      <td>Eine Woche voller Samstage. ( Ab 8 J.).</td>\n",
       "      <td>Paul Maar</td>\n",
       "      <td>1973</td>\n",
       "      <td>Oetinger Verlag</td>\n",
       "      <td>http://images.amazon.com/images/P/3789119520.0...</td>\n",
       "      <td>http://images.amazon.com/images/P/3789119520.0...</td>\n",
       "      <td>http://images.amazon.com/images/P/3789119520.0...</td>\n",
       "    </tr>\n",
       "    <tr>\n",
       "      <th>161791</th>\n",
       "      <td>0345315413</td>\n",
       "      <td>David Starr: Space Ranger</td>\n",
       "      <td>Isaac Asimov</td>\n",
       "      <td>1984</td>\n",
       "      <td>Del Rey Books</td>\n",
       "      <td>http://images.amazon.com/images/P/0345315413.0...</td>\n",
       "      <td>http://images.amazon.com/images/P/0345315413.0...</td>\n",
       "      <td>http://images.amazon.com/images/P/0345315413.0...</td>\n",
       "    </tr>\n",
       "    <tr>\n",
       "      <th>184788</th>\n",
       "      <td>0394170016</td>\n",
       "      <td>The Complete Plays</td>\n",
       "      <td>Joe Orton</td>\n",
       "      <td>1977</td>\n",
       "      <td>Grove Press</td>\n",
       "      <td>http://images.amazon.com/images/P/0394170016.0...</td>\n",
       "      <td>http://images.amazon.com/images/P/0394170016.0...</td>\n",
       "      <td>http://images.amazon.com/images/P/0394170016.0...</td>\n",
       "    </tr>\n",
       "    <tr>\n",
       "      <th>161347</th>\n",
       "      <td>0312989717</td>\n",
       "      <td>Acrobat</td>\n",
       "      <td>Gonzalo Lira</td>\n",
       "      <td>2003</td>\n",
       "      <td>St. Martin's Paperbacks</td>\n",
       "      <td>http://images.amazon.com/images/P/0312989717.0...</td>\n",
       "      <td>http://images.amazon.com/images/P/0312989717.0...</td>\n",
       "      <td>http://images.amazon.com/images/P/0312989717.0...</td>\n",
       "    </tr>\n",
       "  </tbody>\n",
       "</table>\n",
       "</div>"
      ],
      "text/plain": [
       "           book_id                               book_title   book_author  \\\n",
       "103740  0671732838              SIX WEEKS TO WORDS OF POWER  Wilfred Funk   \n",
       "195299  3789119520  Eine Woche voller Samstage. ( Ab 8 J.).     Paul Maar   \n",
       "161791  0345315413                David Starr: Space Ranger  Isaac Asimov   \n",
       "184788  0394170016                       The Complete Plays     Joe Orton   \n",
       "161347  0312989717                                  Acrobat  Gonzalo Lira   \n",
       "\n",
       "       publ_year                 publiser  \\\n",
       "103740      1990                   Pocket   \n",
       "195299      1973          Oetinger Verlag   \n",
       "161791      1984            Del Rey Books   \n",
       "184788      1977              Grove Press   \n",
       "161347      2003  St. Martin's Paperbacks   \n",
       "\n",
       "                                              image_url_s  \\\n",
       "103740  http://images.amazon.com/images/P/0671732838.0...   \n",
       "195299  http://images.amazon.com/images/P/3789119520.0...   \n",
       "161791  http://images.amazon.com/images/P/0345315413.0...   \n",
       "184788  http://images.amazon.com/images/P/0394170016.0...   \n",
       "161347  http://images.amazon.com/images/P/0312989717.0...   \n",
       "\n",
       "                                              image_url_m  \\\n",
       "103740  http://images.amazon.com/images/P/0671732838.0...   \n",
       "195299  http://images.amazon.com/images/P/3789119520.0...   \n",
       "161791  http://images.amazon.com/images/P/0345315413.0...   \n",
       "184788  http://images.amazon.com/images/P/0394170016.0...   \n",
       "161347  http://images.amazon.com/images/P/0312989717.0...   \n",
       "\n",
       "                                              image_url_l  \n",
       "103740  http://images.amazon.com/images/P/0671732838.0...  \n",
       "195299  http://images.amazon.com/images/P/3789119520.0...  \n",
       "161791  http://images.amazon.com/images/P/0345315413.0...  \n",
       "184788  http://images.amazon.com/images/P/0394170016.0...  \n",
       "161347  http://images.amazon.com/images/P/0312989717.0...  "
      ]
     },
     "execution_count": 10,
     "metadata": {},
     "output_type": "execute_result"
    }
   ],
   "source": [
    "df_1.sample(5)"
   ]
  },
  {
   "cell_type": "markdown",
   "metadata": {},
   "source": [
    "Book ratings"
   ]
  },
  {
   "cell_type": "code",
   "execution_count": 11,
   "metadata": {},
   "outputs": [],
   "source": [
    "with open(\"./data/Ratings.csv\", errors=\"ignore\") as fr:\n",
    "    data = fr.read()\n",
    "df = pd.read_csv(io.StringIO(data), sep=\";\", error_bad_lines=False)"
   ]
  },
  {
   "cell_type": "code",
   "execution_count": 12,
   "metadata": {},
   "outputs": [
    {
     "data": {
      "text/html": [
       "<div>\n",
       "<style scoped>\n",
       "    .dataframe tbody tr th:only-of-type {\n",
       "        vertical-align: middle;\n",
       "    }\n",
       "\n",
       "    .dataframe tbody tr th {\n",
       "        vertical-align: top;\n",
       "    }\n",
       "\n",
       "    .dataframe thead th {\n",
       "        text-align: right;\n",
       "    }\n",
       "</style>\n",
       "<table border=\"1\" class=\"dataframe\">\n",
       "  <thead>\n",
       "    <tr style=\"text-align: right;\">\n",
       "      <th></th>\n",
       "      <th>user_id</th>\n",
       "      <th>book_id</th>\n",
       "      <th>rating</th>\n",
       "    </tr>\n",
       "  </thead>\n",
       "  <tbody>\n",
       "    <tr>\n",
       "      <th>1068833</th>\n",
       "      <td>255218</td>\n",
       "      <td>0684803860</td>\n",
       "      <td>0</td>\n",
       "    </tr>\n",
       "    <tr>\n",
       "      <th>1050349</th>\n",
       "      <td>251152</td>\n",
       "      <td>0471352292</td>\n",
       "      <td>5</td>\n",
       "    </tr>\n",
       "    <tr>\n",
       "      <th>1091286</th>\n",
       "      <td>261829</td>\n",
       "      <td>0373058772</td>\n",
       "      <td>0</td>\n",
       "    </tr>\n",
       "    <tr>\n",
       "      <th>734040</th>\n",
       "      <td>177432</td>\n",
       "      <td>0451169514</td>\n",
       "      <td>8</td>\n",
       "    </tr>\n",
       "    <tr>\n",
       "      <th>499815</th>\n",
       "      <td>120598</td>\n",
       "      <td>0821758551</td>\n",
       "      <td>7</td>\n",
       "    </tr>\n",
       "  </tbody>\n",
       "</table>\n",
       "</div>"
      ],
      "text/plain": [
       "         user_id     book_id  rating\n",
       "1068833   255218  0684803860       0\n",
       "1050349   251152  0471352292       5\n",
       "1091286   261829  0373058772       0\n",
       "734040    177432  0451169514       8\n",
       "499815    120598  0821758551       7"
      ]
     },
     "execution_count": 12,
     "metadata": {},
     "output_type": "execute_result"
    }
   ],
   "source": [
    "df.columns = [\"user_id\", \"book_id\", \"rating\"]\n",
    "df.sample(5)"
   ]
  },
  {
   "cell_type": "markdown",
   "metadata": {},
   "source": [
    "Indicative description of clients"
   ]
  },
  {
   "cell_type": "code",
   "execution_count": 13,
   "metadata": {},
   "outputs": [],
   "source": [
    "df_3 = pd.read_csv(\"./data/Users.csv\", names=[\"user_id\", \"location\", \"age\"])"
   ]
  },
  {
   "cell_type": "code",
   "execution_count": 14,
   "metadata": {},
   "outputs": [
    {
     "data": {
      "text/html": [
       "<div>\n",
       "<style scoped>\n",
       "    .dataframe tbody tr th:only-of-type {\n",
       "        vertical-align: middle;\n",
       "    }\n",
       "\n",
       "    .dataframe tbody tr th {\n",
       "        vertical-align: top;\n",
       "    }\n",
       "\n",
       "    .dataframe thead th {\n",
       "        text-align: right;\n",
       "    }\n",
       "</style>\n",
       "<table border=\"1\" class=\"dataframe\">\n",
       "  <thead>\n",
       "    <tr style=\"text-align: right;\">\n",
       "      <th></th>\n",
       "      <th>user_id</th>\n",
       "      <th>location</th>\n",
       "      <th>age</th>\n",
       "    </tr>\n",
       "  </thead>\n",
       "  <tbody>\n",
       "    <tr>\n",
       "      <th>131212</th>\n",
       "      <td>131212</td>\n",
       "      <td>los angeles, california, usa</td>\n",
       "      <td>NaN</td>\n",
       "    </tr>\n",
       "    <tr>\n",
       "      <th>241524</th>\n",
       "      <td>241524</td>\n",
       "      <td>reno, nevada, usa</td>\n",
       "      <td>16.0</td>\n",
       "    </tr>\n",
       "    <tr>\n",
       "      <th>253057</th>\n",
       "      <td>253057</td>\n",
       "      <td>london, london, united kingdom</td>\n",
       "      <td>NaN</td>\n",
       "    </tr>\n",
       "    <tr>\n",
       "      <th>53435</th>\n",
       "      <td>53435</td>\n",
       "      <td>bushnell, florida, usa</td>\n",
       "      <td>NaN</td>\n",
       "    </tr>\n",
       "    <tr>\n",
       "      <th>141337</th>\n",
       "      <td>141337</td>\n",
       "      <td>singapore, n/a, singapore</td>\n",
       "      <td>26.0</td>\n",
       "    </tr>\n",
       "  </tbody>\n",
       "</table>\n",
       "</div>"
      ],
      "text/plain": [
       "       user_id                        location   age\n",
       "131212  131212    los angeles, california, usa   NaN\n",
       "241524  241524               reno, nevada, usa  16.0\n",
       "253057  253057  london, london, united kingdom   NaN\n",
       "53435    53435          bushnell, florida, usa   NaN\n",
       "141337  141337       singapore, n/a, singapore  26.0"
      ]
     },
     "execution_count": 14,
     "metadata": {},
     "output_type": "execute_result"
    }
   ],
   "source": [
    "df_3.sample(5)"
   ]
  },
  {
   "cell_type": "markdown",
   "metadata": {},
   "source": [
    "## EDA"
   ]
  },
  {
   "cell_type": "markdown",
   "metadata": {},
   "source": [
    "### Ratings"
   ]
  },
  {
   "cell_type": "code",
   "execution_count": 18,
   "metadata": {
    "scrolled": false
   },
   "outputs": [
    {
     "data": {
      "image/png": "[encoded data removed]",
      "text/plain": [
       "<Figure size 800x400 with 1 Axes>"
      ]
     },
     "metadata": {},
     "output_type": "display_data"
    }
   ],
   "source": [
    "plt.figure(figsize=(8, 4))\n",
    "ax = sns.countplot(x=df[\"rating\"])\n",
    "ax.set_title(\"Rating split\")"
   ]
  },
  {
   "cell_type": "code",
   "execution_count": 19,
   "metadata": {},
   "outputs": [
    {
     "data": {
      "image/png": "[encoded data removed]",
      "text/plain": [
       "<Figure size 800x400 with 1 Axes>"
      ]
     },
     "metadata": {},
     "output_type": "display_data"
    }
   ],
   "source": [
    "plt.figure(figsize=(8, 4))\n",
    "imp_vs_exp = df[\"rating\"].apply(lambda x: \"Implicit\" if x == 0 else \"Explicit\")\n",
    "\n",
    "ax = sns.countplot(x=imp_vs_exp)\n",
    "ax.bar_label(\n",
    "    container=ax.containers[0], labels=imp_vs_exp.value_counts().values.round(3)\n",
    ")\n",
    "ax.set_title(\"Rating split\")"
   ]
  },
  {
   "cell_type": "markdown",
   "metadata": {},
   "source": [
    "Lines with a zero rating are useless, but at the same time they make up a massive layer of data."
   ]
  },
  {
   "cell_type": "code",
   "execution_count": 20,
   "metadata": {},
   "outputs": [],
   "source": [
    "# Remove useless rows with 0 rating\n",
    "df = df[df[\"rating\"] != 0]"
   ]
  },
  {
   "cell_type": "code",
   "execution_count": 31,
   "metadata": {},
   "outputs": [
    {
     "data": {
      "text/html": [
       "<div>\n",
       "<style scoped>\n",
       "    .dataframe tbody tr th:only-of-type {\n",
       "        vertical-align: middle;\n",
       "    }\n",
       "\n",
       "    .dataframe tbody tr th {\n",
       "        vertical-align: top;\n",
       "    }\n",
       "\n",
       "    .dataframe thead th {\n",
       "        text-align: right;\n",
       "    }\n",
       "</style>\n",
       "<table border=\"1\" class=\"dataframe\">\n",
       "  <thead>\n",
       "    <tr style=\"text-align: right;\">\n",
       "      <th></th>\n",
       "      <th>user_id</th>\n",
       "      <th>book_id</th>\n",
       "      <th>rating</th>\n",
       "    </tr>\n",
       "  </thead>\n",
       "  <tbody>\n",
       "    <tr>\n",
       "      <th>1</th>\n",
       "      <td>276726</td>\n",
       "      <td>0155061224</td>\n",
       "      <td>5</td>\n",
       "    </tr>\n",
       "    <tr>\n",
       "      <th>3</th>\n",
       "      <td>276729</td>\n",
       "      <td>052165615X</td>\n",
       "      <td>3</td>\n",
       "    </tr>\n",
       "    <tr>\n",
       "      <th>4</th>\n",
       "      <td>276729</td>\n",
       "      <td>0521795028</td>\n",
       "      <td>6</td>\n",
       "    </tr>\n",
       "    <tr>\n",
       "      <th>6</th>\n",
       "      <td>276736</td>\n",
       "      <td>3257224281</td>\n",
       "      <td>8</td>\n",
       "    </tr>\n",
       "    <tr>\n",
       "      <th>7</th>\n",
       "      <td>276737</td>\n",
       "      <td>0600570967</td>\n",
       "      <td>6</td>\n",
       "    </tr>\n",
       "    <tr>\n",
       "      <th>...</th>\n",
       "      <td>...</td>\n",
       "      <td>...</td>\n",
       "      <td>...</td>\n",
       "    </tr>\n",
       "    <tr>\n",
       "      <th>1149773</th>\n",
       "      <td>276704</td>\n",
       "      <td>0806917695</td>\n",
       "      <td>5</td>\n",
       "    </tr>\n",
       "    <tr>\n",
       "      <th>1149775</th>\n",
       "      <td>276704</td>\n",
       "      <td>1563526298</td>\n",
       "      <td>9</td>\n",
       "    </tr>\n",
       "    <tr>\n",
       "      <th>1149777</th>\n",
       "      <td>276709</td>\n",
       "      <td>0515107662</td>\n",
       "      <td>10</td>\n",
       "    </tr>\n",
       "    <tr>\n",
       "      <th>1149778</th>\n",
       "      <td>276721</td>\n",
       "      <td>0590442449</td>\n",
       "      <td>10</td>\n",
       "    </tr>\n",
       "    <tr>\n",
       "      <th>1149779</th>\n",
       "      <td>276723</td>\n",
       "      <td>05162443314</td>\n",
       "      <td>8</td>\n",
       "    </tr>\n",
       "  </tbody>\n",
       "</table>\n",
       "<p>433671 rows × 3 columns</p>\n",
       "</div>"
      ],
      "text/plain": [
       "         user_id      book_id  rating\n",
       "1         276726   0155061224       5\n",
       "3         276729   052165615X       3\n",
       "4         276729   0521795028       6\n",
       "6         276736   3257224281       8\n",
       "7         276737   0600570967       6\n",
       "...          ...          ...     ...\n",
       "1149773   276704   0806917695       5\n",
       "1149775   276704   1563526298       9\n",
       "1149777   276709   0515107662      10\n",
       "1149778   276721   0590442449      10\n",
       "1149779   276723  05162443314       8\n",
       "\n",
       "[433671 rows x 3 columns]"
      ]
     },
     "execution_count": 31,
     "metadata": {},
     "output_type": "execute_result"
    }
   ],
   "source": [
    "df"
   ]
  },
  {
   "cell_type": "code",
   "execution_count": 21,
   "metadata": {
    "scrolled": false
   },
   "outputs": [
    {
     "data": {
      "image/png": "[encoded data removed]",
      "text/plain": [
       "<Figure size 800x400 with 1 Axes>"
      ]
     },
     "metadata": {},
     "output_type": "display_data"
    }
   ],
   "source": [
    "plt.figure(figsize=(8, 4))\n",
    "explicit_rate = df[\"rating\"]\n",
    "\n",
    "ax = sns.countplot(x=explicit_rate)\n",
    "ax.bar_label(\n",
    "    container=ax.containers[0],\n",
    "    labels=explicit_rate.value_counts().sort_index().values.round(3),\n",
    ")\n",
    "ax.set_title(\"Rating split\")\n",
    "plt.tight_layout()"
   ]
  },
  {
   "cell_type": "markdown",
   "metadata": {},
   "source": [
    "Judging by the scatter (a rare number of negative reviews), it can be assumed that the entire ballroom school is meaningful."
   ]
  },
  {
   "cell_type": "code",
   "execution_count": 22,
   "metadata": {},
   "outputs": [
    {
     "data": {
      "text/html": [
       "<div>\n",
       "<style scoped>\n",
       "    .dataframe tbody tr th:only-of-type {\n",
       "        vertical-align: middle;\n",
       "    }\n",
       "\n",
       "    .dataframe tbody tr th {\n",
       "        vertical-align: top;\n",
       "    }\n",
       "\n",
       "    .dataframe thead th {\n",
       "        text-align: right;\n",
       "    }\n",
       "</style>\n",
       "<table border=\"1\" class=\"dataframe\">\n",
       "  <thead>\n",
       "    <tr style=\"text-align: right;\">\n",
       "      <th></th>\n",
       "      <th>user_id</th>\n",
       "      <th>rating</th>\n",
       "    </tr>\n",
       "  </thead>\n",
       "  <tbody>\n",
       "    <tr>\n",
       "      <th>count</th>\n",
       "      <td>433671.000000</td>\n",
       "      <td>433671.000000</td>\n",
       "    </tr>\n",
       "    <tr>\n",
       "      <th>mean</th>\n",
       "      <td>135458.743451</td>\n",
       "      <td>7.601066</td>\n",
       "    </tr>\n",
       "    <tr>\n",
       "      <th>std</th>\n",
       "      <td>80678.385078</td>\n",
       "      <td>1.843798</td>\n",
       "    </tr>\n",
       "    <tr>\n",
       "      <th>min</th>\n",
       "      <td>8.000000</td>\n",
       "      <td>1.000000</td>\n",
       "    </tr>\n",
       "    <tr>\n",
       "      <th>25%</th>\n",
       "      <td>66619.000000</td>\n",
       "      <td>7.000000</td>\n",
       "    </tr>\n",
       "    <tr>\n",
       "      <th>50%</th>\n",
       "      <td>133184.000000</td>\n",
       "      <td>8.000000</td>\n",
       "    </tr>\n",
       "    <tr>\n",
       "      <th>75%</th>\n",
       "      <td>205735.000000</td>\n",
       "      <td>9.000000</td>\n",
       "    </tr>\n",
       "    <tr>\n",
       "      <th>max</th>\n",
       "      <td>278854.000000</td>\n",
       "      <td>10.000000</td>\n",
       "    </tr>\n",
       "  </tbody>\n",
       "</table>\n",
       "</div>"
      ],
      "text/plain": [
       "             user_id         rating\n",
       "count  433671.000000  433671.000000\n",
       "mean   135458.743451       7.601066\n",
       "std     80678.385078       1.843798\n",
       "min         8.000000       1.000000\n",
       "25%     66619.000000       7.000000\n",
       "50%    133184.000000       8.000000\n",
       "75%    205735.000000       9.000000\n",
       "max    278854.000000      10.000000"
      ]
     },
     "execution_count": 22,
     "metadata": {},
     "output_type": "execute_result"
    }
   ],
   "source": [
    "df.describe()"
   ]
  },
  {
   "cell_type": "markdown",
   "metadata": {},
   "source": [
    "The average rating is high."
   ]
  },
  {
   "cell_type": "code",
   "execution_count": 33,
   "metadata": {},
   "outputs": [
    {
     "data": {
      "image/png": "[encoded data removed]",
      "text/plain": [
       "<Figure size 1000x400 with 1 Axes>"
      ]
     },
     "metadata": {},
     "output_type": "display_data"
    }
   ],
   "source": [
    "plt.figure(figsize=(10, 4))\n",
    "ax = sns.histplot(\n",
    "    data=df.groupby([\"book_id\"]).size().reset_index(name=\"counts\"),\n",
    "    x=\"counts\",\n",
    "    bins=100,\n",
    "    kde=True,\n",
    ")\n",
    "ax.set_xlabel(\"Ratings number\")\n",
    "ax.set_ylabel(\"Books number\")\n",
    "ax.set_title(\"Book popularity distribution\")"
   ]
  },
  {
   "cell_type": "markdown",
   "metadata": {},
   "source": [
    "Most books have few ratings."
   ]
  },
  {
   "cell_type": "code",
   "execution_count": 24,
   "metadata": {
    "scrolled": false
   },
   "outputs": [
    {
     "data": {
      "image/png": "[encoded data removed]",
      "text/plain": [
       "<Figure size 1000x400 with 1 Axes>"
      ]
     },
     "metadata": {},
     "output_type": "display_data"
    }
   ],
   "source": [
    "plt.figure(figsize=(10, 4))\n",
    "ax = sns.histplot(\n",
    "    data=df.groupby([\"user_id\"]).size().reset_index(name=\"counts\"),\n",
    "    x=\"counts\",\n",
    "    bins=100,\n",
    "    kde=True,\n",
    ")\n",
    "ax.set_xlabel(\"Ratings number\")\n",
    "ax.set_ylabel(\"Users number\")\n",
    "ax.set_title(\"User activity distribution\")"
   ]
  },
  {
   "cell_type": "markdown",
   "metadata": {},
   "source": [
    "In terms of user activity, there is a similar picture, the longer tail of the distribution is due to the user who left:"
   ]
  },
  {
   "cell_type": "code",
   "execution_count": 25,
   "metadata": {},
   "outputs": [],
   "source": [
    "max_user_ratings = (\n",
    "    df.groupby([\"user_id\"]).size().reset_index(name=\"counts\").max().counts\n",
    ")"
   ]
  },
  {
   "cell_type": "code",
   "execution_count": 26,
   "metadata": {},
   "outputs": [
    {
     "data": {
      "text/plain": [
       "8524"
      ]
     },
     "execution_count": 26,
     "metadata": {},
     "output_type": "execute_result"
    }
   ],
   "source": [
    "max_user_ratings"
   ]
  },
  {
   "cell_type": "markdown",
   "metadata": {},
   "source": [
    "## Data preparation"
   ]
  },
  {
   "cell_type": "markdown",
   "metadata": {},
   "source": [
    "### Treatment"
   ]
  },
  {
   "cell_type": "code",
   "execution_count": 117,
   "metadata": {},
   "outputs": [],
   "source": [
    "file = \"./data/Ratings.csv\"\n",
    "with open(file, errors=\"ignore\") as fr:\n",
    "    data = fr.read()\n",
    "df = pd.read_csv(io.StringIO(data), sep=\";\", error_bad_lines=False)"
   ]
  },
  {
   "cell_type": "code",
   "execution_count": 118,
   "metadata": {},
   "outputs": [
    {
     "data": {
      "text/html": [
       "<div>\n",
       "<style scoped>\n",
       "    .dataframe tbody tr th:only-of-type {\n",
       "        vertical-align: middle;\n",
       "    }\n",
       "\n",
       "    .dataframe tbody tr th {\n",
       "        vertical-align: top;\n",
       "    }\n",
       "\n",
       "    .dataframe thead th {\n",
       "        text-align: right;\n",
       "    }\n",
       "</style>\n",
       "<table border=\"1\" class=\"dataframe\">\n",
       "  <thead>\n",
       "    <tr style=\"text-align: right;\">\n",
       "      <th></th>\n",
       "      <th>user_id</th>\n",
       "      <th>book_id</th>\n",
       "      <th>rating</th>\n",
       "    </tr>\n",
       "  </thead>\n",
       "  <tbody>\n",
       "    <tr>\n",
       "      <th>525624</th>\n",
       "      <td>127233</td>\n",
       "      <td>0060096195</td>\n",
       "      <td>0</td>\n",
       "    </tr>\n",
       "    <tr>\n",
       "      <th>1065755</th>\n",
       "      <td>254498</td>\n",
       "      <td>8806159356</td>\n",
       "      <td>0</td>\n",
       "    </tr>\n",
       "    <tr>\n",
       "      <th>507700</th>\n",
       "      <td>123608</td>\n",
       "      <td>0590332767</td>\n",
       "      <td>6</td>\n",
       "    </tr>\n",
       "    <tr>\n",
       "      <th>899214</th>\n",
       "      <td>217375</td>\n",
       "      <td>0743462939</td>\n",
       "      <td>0</td>\n",
       "    </tr>\n",
       "    <tr>\n",
       "      <th>463270</th>\n",
       "      <td>110973</td>\n",
       "      <td>0373106149</td>\n",
       "      <td>0</td>\n",
       "    </tr>\n",
       "  </tbody>\n",
       "</table>\n",
       "</div>"
      ],
      "text/plain": [
       "         user_id     book_id  rating\n",
       "525624    127233  0060096195       0\n",
       "1065755   254498  8806159356       0\n",
       "507700    123608  0590332767       6\n",
       "899214    217375  0743462939       0\n",
       "463270    110973  0373106149       0"
      ]
     },
     "execution_count": 118,
     "metadata": {},
     "output_type": "execute_result"
    }
   ],
   "source": [
    "df.columns = [\"user_id\", \"book_id\", \"rating\"]\n",
    "df.sample(5)"
   ]
  },
  {
   "cell_type": "code",
   "execution_count": 119,
   "metadata": {},
   "outputs": [],
   "source": [
    "# Remove useless rows with 0 rating\n",
    "df = df[df[\"rating\"] != 0]"
   ]
  },
  {
   "cell_type": "markdown",
   "metadata": {},
   "source": [
    "Let's weed out:\n",
    "- users with few reviews (`< user_lim`)\n",
    "- books with few reviews (`< item_lim`)"
   ]
  },
  {
   "cell_type": "code",
   "execution_count": 120,
   "metadata": {},
   "outputs": [],
   "source": [
    "def count_per_item(df, column_name: str):\n",
    "    item_groups = df.groupby([column_name], as_index=False).size()\n",
    "    return item_groups"
   ]
  },
  {
   "cell_type": "code",
   "execution_count": 121,
   "metadata": {},
   "outputs": [],
   "source": [
    "# Filter over dataframe iteratively until nothing could be removed by condition\n",
    "def filter_by_limits(df, user_lim=9, item_lim=9):\n",
    "\n",
    "    while True:\n",
    "        end_cycle = False\n",
    "        if user_lim > 0:\n",
    "            user_groups = count_per_item(df, \"user_id\")\n",
    "            n_users = len(user_groups)\n",
    "            df = df[\n",
    "                df[\"user_id\"].isin(\n",
    "                    user_groups[user_groups[\"size\"] > user_lim].user_id.values\n",
    "                )\n",
    "            ]\n",
    "\n",
    "            # Check if smth was removed in this step\n",
    "            if df[\"user_id\"].nunique() == n_users:\n",
    "                end_cycle = True\n",
    "\n",
    "        if item_lim > 0:\n",
    "            book_groups = count_per_item(df, \"book_id\")\n",
    "            n_books = len(book_groups)\n",
    "            df = df[\n",
    "                df[\"book_id\"].isin(\n",
    "                    book_groups[book_groups[\"size\"] > item_lim].book_id.values\n",
    "                )\n",
    "            ]\n",
    "\n",
    "            if end_cycle and df[\"book_id\"].nunique() == n_books:\n",
    "                break\n",
    "\n",
    "    print(f\"Оставили {df['user_id'].nunique()} уникальных пользователей\", end=\"\\n\")\n",
    "    print(f\"Оставили {df['book_id'].nunique()} уникальных книг\")\n",
    "\n",
    "    user_groups, book_groups = count_per_item(df, \"user_id\"), count_per_item(\n",
    "        df, \"book_id\"\n",
    "    )\n",
    "    return df, user_groups, book_groups"
   ]
  },
  {
   "cell_type": "code",
   "execution_count": 122,
   "metadata": {},
   "outputs": [
    {
     "name": "stdout",
     "output_type": "stream",
     "text": [
      "Оставили 1842 уникальных пользователей\n",
      "Оставили 2065 уникальных книг\n"
     ]
    }
   ],
   "source": [
    "df, user_groups, book_groups = filter_by_limits(df)"
   ]
  },
  {
   "cell_type": "code",
   "execution_count": 123,
   "metadata": {
    "scrolled": true
   },
   "outputs": [
    {
     "data": {
      "text/html": [
       "<div>\n",
       "<style scoped>\n",
       "    .dataframe tbody tr th:only-of-type {\n",
       "        vertical-align: middle;\n",
       "    }\n",
       "\n",
       "    .dataframe tbody tr th {\n",
       "        vertical-align: top;\n",
       "    }\n",
       "\n",
       "    .dataframe thead th {\n",
       "        text-align: right;\n",
       "    }\n",
       "</style>\n",
       "<table border=\"1\" class=\"dataframe\">\n",
       "  <thead>\n",
       "    <tr style=\"text-align: right;\">\n",
       "      <th></th>\n",
       "      <th>user_id</th>\n",
       "      <th>book_id</th>\n",
       "      <th>rating</th>\n",
       "    </tr>\n",
       "  </thead>\n",
       "  <tbody>\n",
       "    <tr>\n",
       "      <th>408264</th>\n",
       "      <td>98391</td>\n",
       "      <td>0425188361</td>\n",
       "      <td>10</td>\n",
       "    </tr>\n",
       "    <tr>\n",
       "      <th>415974</th>\n",
       "      <td>98787</td>\n",
       "      <td>0385498802</td>\n",
       "      <td>6</td>\n",
       "    </tr>\n",
       "    <tr>\n",
       "      <th>856726</th>\n",
       "      <td>207148</td>\n",
       "      <td>0688170528</td>\n",
       "      <td>9</td>\n",
       "    </tr>\n",
       "    <tr>\n",
       "      <th>743198</th>\n",
       "      <td>179772</td>\n",
       "      <td>0140067477</td>\n",
       "      <td>10</td>\n",
       "    </tr>\n",
       "    <tr>\n",
       "      <th>507312</th>\n",
       "      <td>123515</td>\n",
       "      <td>0312966970</td>\n",
       "      <td>8</td>\n",
       "    </tr>\n",
       "  </tbody>\n",
       "</table>\n",
       "</div>"
      ],
      "text/plain": [
       "        user_id     book_id  rating\n",
       "408264    98391  0425188361      10\n",
       "415974    98787  0385498802       6\n",
       "856726   207148  0688170528       9\n",
       "743198   179772  0140067477      10\n",
       "507312   123515  0312966970       8"
      ]
     },
     "execution_count": 123,
     "metadata": {},
     "output_type": "execute_result"
    }
   ],
   "source": [
    "df.sample(5)"
   ]
  },
  {
   "cell_type": "markdown",
   "metadata": {},
   "source": [
    "### Test-split "
   ]
  },
  {
   "cell_type": "code",
   "execution_count": 124,
   "metadata": {},
   "outputs": [],
   "source": [
    "unique_users_id = user_groups.user_id.values\n",
    "unique_books_id = pd.unique(df[\"book_id\"])\n",
    "\n",
    "n_users = len(unique_users_id)\n",
    "n_books = len(unique_books_id)"
   ]
  },
  {
   "cell_type": "code",
   "execution_count": 125,
   "metadata": {},
   "outputs": [],
   "source": [
    "# Shuffle user_ids\n",
    "np.random.shuffle(unique_users_id)"
   ]
  },
  {
   "cell_type": "code",
   "execution_count": 126,
   "metadata": {},
   "outputs": [
    {
     "name": "stdout",
     "output_type": "stream",
     "text": [
      "Размер выборки для обучения: 1474\n",
      "Размер выборки для тестирования: 368\n"
     ]
    }
   ],
   "source": [
    "n_heldout_users = int(0.2 * n_users)\n",
    "\n",
    "# Split Train/Test by indices\n",
    "train_users = unique_users_id[: (n_users - n_heldout_users)]\n",
    "print(f\"Размер выборки для обучения: {len(train_users)}\")\n",
    "test_users = unique_users_id[(n_users - n_heldout_users) :]\n",
    "print(f\"Размер выборки для тестирования: {len(test_users)}\")"
   ]
  },
  {
   "cell_type": "markdown",
   "metadata": {},
   "source": [
    "## Saving data for the Dataset class "
   ]
  },
  {
   "cell_type": "code",
   "execution_count": 127,
   "metadata": {},
   "outputs": [],
   "source": [
    "train_df = df.loc[df[\"user_id\"].isin(train_users)]\n",
    "train_df = train_df.sort_values([\"user_id\"])"
   ]
  },
  {
   "cell_type": "code",
   "execution_count": 128,
   "metadata": {},
   "outputs": [],
   "source": [
    "test_df = df.loc[df[\"user_id\"].isin(test_users)]\n",
    "test_df = test_df.sort_values([\"user_id\"])"
   ]
  },
  {
   "cell_type": "markdown",
   "metadata": {},
   "source": [
    "Reindexing"
   ]
  },
  {
   "cell_type": "code",
   "execution_count": 129,
   "metadata": {},
   "outputs": [],
   "source": [
    "def reindex_mappings(df, train_df, test_df):\n",
    "\n",
    "    # First reindex train dataframe\n",
    "    users_id = train_df.user_id.values\n",
    "\n",
    "    user_to_ind = {}\n",
    "\n",
    "    for user in users_id:\n",
    "        if user not in user_to_ind:\n",
    "            user_to_ind[user] = user_to_ind.__len__()\n",
    "\n",
    "    # Complete reindexing by using test df\n",
    "    user_id = test_df.user_id.values\n",
    "\n",
    "    for user in user_id:\n",
    "        if user not in user_to_ind:\n",
    "            user_to_ind[user] = user_to_ind.__len__()\n",
    "\n",
    "    book_to_ind = {}\n",
    "\n",
    "    books = df.book_id.values\n",
    "\n",
    "    for book in books:\n",
    "        if book not in book_to_ind:\n",
    "            book_to_ind[book] = book_to_ind.__len__()\n",
    "\n",
    "    return user_to_ind, book_to_ind"
   ]
  },
  {
   "cell_type": "code",
   "execution_count": 130,
   "metadata": {},
   "outputs": [],
   "source": [
    "def apply_reindex(df):\n",
    "    global user_to_ind, book_to_ind\n",
    "    df[\"user_id\"] = df[\"user_id\"].apply(lambda x: user_to_ind[x])\n",
    "    df[\"book_id\"] = df[\"book_id\"].apply(lambda x: book_to_ind[x])"
   ]
  },
  {
   "cell_type": "code",
   "execution_count": 131,
   "metadata": {},
   "outputs": [],
   "source": [
    "user_to_ind, book_to_ind = reindex_mappings(df, train_df, test_df)"
   ]
  },
  {
   "cell_type": "markdown",
   "metadata": {},
   "source": [
    "### Train data"
   ]
  },
  {
   "cell_type": "code",
   "execution_count": 132,
   "metadata": {
    "scrolled": true
   },
   "outputs": [],
   "source": [
    "apply_reindex(train_df)"
   ]
  },
  {
   "cell_type": "code",
   "execution_count": 133,
   "metadata": {},
   "outputs": [],
   "source": [
    "# Save train data\n",
    "data_dir = os.path.join(os.getcwd(), \"dataset_data\")\n",
    "\n",
    "if not os.path.exists(data_dir):\n",
    "    os.makedirs(\"dataset_data\")"
   ]
  },
  {
   "cell_type": "code",
   "execution_count": 134,
   "metadata": {},
   "outputs": [],
   "source": [
    "train_df.to_csv(os.path.join(data_dir, \"train.csv\"), index=False)"
   ]
  },
  {
   "cell_type": "markdown",
   "metadata": {},
   "source": [
    "### Test data"
   ]
  },
  {
   "cell_type": "code",
   "execution_count": 135,
   "metadata": {},
   "outputs": [],
   "source": [
    "apply_reindex(test_df)"
   ]
  },
  {
   "cell_type": "markdown",
   "metadata": {},
   "source": [
    "It is important to understand that the existence of the \"cold start\" problem obliges the test sample to also be divided into two parts: the first part `test_input` will be fed into the model (imitation of a user with certain interests), and according to the reconstruction obtained from the model, we will additionally predict the user's interests and data the second part `test_compare` will allow comparison, thereby evaluating the quality of the reconstruction."
   ]
  },
  {
   "cell_type": "code",
   "execution_count": 136,
   "metadata": {},
   "outputs": [],
   "source": [
    "# Split test data into two parts: one as input for model\n",
    "# and another one as a comparison with reconstruction results\n",
    "def split_test_data(df, proportion=0.3):\n",
    "    user_groups = df.groupby(\"user_id\")\n",
    "    list_input, list_compare = [], []\n",
    "\n",
    "    # np.random.seed(42)\n",
    "\n",
    "    for _, group in user_groups:\n",
    "        n_user_books = len(group)\n",
    "\n",
    "        idx = np.zeros(n_user_books, dtype=\"bool\")\n",
    "        idx[\n",
    "            np.random.choice(\n",
    "                n_user_books, size=int(proportion * n_user_books), replace=False\n",
    "            )\n",
    "        ] = True\n",
    "\n",
    "        list_input.append(group[~idx])\n",
    "        list_compare.append(group[idx])\n",
    "\n",
    "    df_input = pd.concat(list_input)\n",
    "    df_compare = pd.concat(list_compare)\n",
    "\n",
    "    return df_input, df_compare"
   ]
  },
  {
   "cell_type": "code",
   "execution_count": 137,
   "metadata": {},
   "outputs": [],
   "source": [
    "test_df_input, test_df_compare = split_test_data(test_df)"
   ]
  },
  {
   "cell_type": "code",
   "execution_count": 138,
   "metadata": {},
   "outputs": [],
   "source": [
    "test_df_input.to_csv(os.path.join(data_dir, \"test_input.csv\"), index=False)\n",
    "test_df_compare.to_csv(os.path.join(data_dir, \"test_compare.csv\"), index=False)"
   ]
  },
  {
   "cell_type": "markdown",
   "metadata": {},
   "source": [
    "### Save books ids "
   ]
  },
  {
   "cell_type": "code",
   "execution_count": 139,
   "metadata": {},
   "outputs": [],
   "source": [
    "books_ids = train_df.book_id.unique()\n",
    "with open(os.path.join(data_dir, \"books_ids.txt\"), \"w\") as f:\n",
    "    for book_id in books_ids:\n",
    "        f.write(f\"{book_id}\\n\")"
   ]
  },
  {
   "cell_type": "markdown",
   "metadata": {},
   "source": [
    "Everything is ready to create a dataset class for training and testing the model."
   ]
  },
  {
   "cell_type": "markdown",
   "metadata": {},
   "source": [
    "## Class dataset"
   ]
  },
  {
   "cell_type": "code",
   "execution_count": 140,
   "metadata": {},
   "outputs": [],
   "source": [
    "class BookTrainDataset(torch.utils.data.Dataset):\n",
    "    def __init__(self, path):\n",
    "        super(BookTrainDataset, self).__init__()\n",
    "        self.dir = os.path.join(path, \"dataset_data\")\n",
    "        self.n_books = self._get_n_books()\n",
    "\n",
    "        self.matrix = self._extract_train_data()\n",
    "\n",
    "    @property\n",
    "    def sparsity(self):\n",
    "        return self.matrix.count_nonzero().item() / torch.numel(self.matrix)\n",
    "\n",
    "    def _get_n_books(self):\n",
    "        path = os.path.join(self.dir, \"books_ids.txt\")\n",
    "\n",
    "        books_ids = []\n",
    "        with open(path, \"r\") as f:\n",
    "            for line in f:\n",
    "                books_ids.append(line.strip())\n",
    "        n_books = len(books_ids)\n",
    "        return n_books\n",
    "\n",
    "    def _extract_train_data(self):\n",
    "        path = os.path.join(self.dir, \"train.csv\")\n",
    "\n",
    "        train_df = pd.read_csv(path)\n",
    "        ratings = train_df[\"rating\"].values\n",
    "\n",
    "        n_users = len(train_df.groupby(\"user_id\").size())\n",
    "\n",
    "        rows, cols = train_df[\"user_id\"].values, train_df[\"book_id\"].values\n",
    "        data = sparse.csr_matrix(\n",
    "            (ratings, (rows, cols)),\n",
    "            dtype=\"float64\",\n",
    "            shape=(n_users, self.n_books),\n",
    "        )\n",
    "        return self.sparse_to_torch(data)\n",
    "\n",
    "    @staticmethod\n",
    "    def sparse_to_torch(data):\n",
    "        data = data.toarray()  # to dense ndarray\n",
    "        data = torch.FloatTensor(data)  # to dense torch.Tensor\n",
    "        # Min-max normalization\n",
    "        min_val, max_val = data.min(), data.max()\n",
    "        data = (data - min_val) / (max_val - min_val)\n",
    "        return data\n",
    "\n",
    "    def __len__(self):\n",
    "        return len(self.matrix)\n",
    "\n",
    "    def __getitem__(self, idx):\n",
    "        return self.matrix[idx]"
   ]
  },
  {
   "cell_type": "code",
   "execution_count": 141,
   "metadata": {},
   "outputs": [],
   "source": [
    "class BookTestDataset(torch.utils.data.Dataset):\n",
    "    def __init__(self, path):\n",
    "        super(BookTestDataset, self).__init__()\n",
    "        self.dir = os.path.join(path, \"dataset_data\")\n",
    "        self.n_books = self._get_n_books()\n",
    "\n",
    "        self.matrix_input, self.matrix_compare = self._extract_test_data()\n",
    "\n",
    "    @property\n",
    "    def sparsity(self):\n",
    "        return self.matrix_input.count_nonzero().item() / torch.numel(\n",
    "            self.matrix_input\n",
    "        ), self.matrix_compare.count_nonzero().item() / torch.numel(self.matrix_compare)\n",
    "\n",
    "    def _get_n_books(self):\n",
    "        path = os.path.join(self.dir, \"books_ids.txt\")\n",
    "\n",
    "        books_ids = []\n",
    "        with open(path, \"r\") as f:\n",
    "            for line in f:\n",
    "                books_ids.append(line.strip())\n",
    "        n_books = len(books_ids)\n",
    "        return n_books\n",
    "\n",
    "    def _extract_test_data(self):\n",
    "        path_input = os.path.join(self.dir, \"test_input.csv\")\n",
    "        path_compare = os.path.join(self.dir, \"test_compare.csv\")\n",
    "\n",
    "        # Have equal number of users\n",
    "        test_df_input = pd.read_csv(path_input)\n",
    "        test_df_compare = pd.read_csv(path_compare)\n",
    "\n",
    "        ratings_input = test_df_input[\"rating\"].values\n",
    "        ratings_compare = test_df_compare[\"rating\"].values\n",
    "\n",
    "        # Reindex to meet dimension boundaries\n",
    "        start_idx = test_df_input[\"user_id\"].min()\n",
    "        end_idx = test_df_input[\"user_id\"].max()\n",
    "        n_users = end_idx - start_idx + 1\n",
    "\n",
    "        rows_input, cols_input = (\n",
    "            test_df_input[\"user_id\"] - start_idx,\n",
    "            test_df_input[\"book_id\"],\n",
    "        )\n",
    "        rows_compare, cols_compare = (\n",
    "            test_df_compare[\"user_id\"] - start_idx,\n",
    "            test_df_compare[\"book_id\"],\n",
    "        )\n",
    "\n",
    "        data_input = sparse.csr_matrix(\n",
    "            (ratings_input, (rows_input, cols_input)),\n",
    "            dtype=\"float64\",\n",
    "            shape=(n_users, self.n_books),\n",
    "        )\n",
    "\n",
    "        data_compare = sparse.csr_matrix(\n",
    "            (ratings_compare, (rows_compare, cols_compare)),\n",
    "            dtype=\"float64\",\n",
    "            shape=(n_users, self.n_books),\n",
    "        )\n",
    "\n",
    "        return self.sparse_to_torch(data_input), self.sparse_to_torch(data_compare)\n",
    "\n",
    "    @staticmethod\n",
    "    def sparse_to_torch(data):\n",
    "        data = data.toarray()  # to dense ndarray\n",
    "        data = torch.FloatTensor(data)  # to dense torch.Tensor\n",
    "        # Min-max normalization\n",
    "        min_val, max_val = data.min(), data.max()\n",
    "        data = (data - min_val) / (max_val - min_val)\n",
    "        return data\n",
    "\n",
    "    def __len__(self):\n",
    "        # Both matrices have the same length\n",
    "        return len(self.matrix_input)\n",
    "\n",
    "    def __getitem__(self, idx):\n",
    "        return (\n",
    "            self.matrix_input[idx],\n",
    "            self.matrix_compare[idx],\n",
    "        )"
   ]
  },
  {
   "cell_type": "code",
   "execution_count": 142,
   "metadata": {},
   "outputs": [],
   "source": [
    "train_dataset = BookTrainDataset(path=os.getcwd())\n",
    "test_dataset = BookTestDataset(path=os.getcwd())"
   ]
  },
  {
   "cell_type": "code",
   "execution_count": 143,
   "metadata": {},
   "outputs": [
    {
     "name": "stdout",
     "output_type": "stream",
     "text": [
      "Train matrix sparsity: 0.01074410032163637\n",
      "\n",
      "Test matrix (as model input) sparsity: 0.00888514580482156\n",
      "\n",
      "Test matrix (as holdout for metric evaluation) sparsity: 0.0035293188756711233\n"
     ]
    }
   ],
   "source": [
    "print(f\"Train matrix sparsity: {train_dataset.sparsity}\")\n",
    "print(f\"\\nTest matrix (as model input) sparsity: {test_dataset.sparsity[0]}\")\n",
    "print(\n",
    "    f\"\\nTest matrix (as holdout for metric evaluation) sparsity: {test_dataset.sparsity[1]}\"\n",
    ")"
   ]
  },
  {
   "cell_type": "markdown",
   "metadata": {},
   "source": [
    "## Model"
   ]
  },
  {
   "cell_type": "code",
   "execution_count": 224,
   "metadata": {},
   "outputs": [],
   "source": [
    "class DenoisingAE(torch.nn.Module):\n",
    "    @property\n",
    "    def device(self):\n",
    "        \"\"\"Moves all model parameters to the device.\"\"\"\n",
    "        return next(self.parameters()).device\n",
    "\n",
    "    def __init__(\n",
    "        self,\n",
    "        enc_dims: List[int],\n",
    "        dec_dims: Optional[List[int]] = None,\n",
    "        corrupt_ratio: float = 0.3,\n",
    "    ):\n",
    "        super(DenoisingAE, self).__init__()\n",
    "        self.enc_dims = enc_dims\n",
    "        if dec_dims:\n",
    "            assert (\n",
    "                enc_dims[0] == dec_dims[-1]\n",
    "            ), \"Reconstruction dimension should be equal to input\"\n",
    "            assert (\n",
    "                enc_dims[-1] == dec_dims[0]\n",
    "            ), \"Latent dimension for encoder and decoder should be equal\"\n",
    "            self.dec_dims = dec_dims\n",
    "        else:\n",
    "            # Decoder is symmetric by default\n",
    "            self.dec_dims = enc_dims[::-1]\n",
    "\n",
    "        self.activation_fn = torch.nn.Sigmoid()\n",
    "        self.corrupt_ratio = corrupt_ratio\n",
    "\n",
    "        self.dims = self.enc_dims + self.dec_dims[1:]\n",
    "        self.layers = torch.nn.ModuleList(\n",
    "            [\n",
    "                torch.nn.Linear(d_in, d_out)\n",
    "                for d_in, d_out in zip(self.dims[:-1], self.dims[1:])\n",
    "            ]\n",
    "        )\n",
    "\n",
    "    def forward(self, input):\n",
    "        if self.corrupt_ratio:\n",
    "            # Corrupt the rating matrix only during training\n",
    "            h = torch.nn.functional.dropout(\n",
    "                input, p=self.corrupt_ratio, training=self.training\n",
    "            )\n",
    "        for i, layer in enumerate(self.layers):\n",
    "            h = layer(h)\n",
    "            # No activation on the last decoding layer\n",
    "            if i != len(self.layers) - 1:\n",
    "                h = self.activation_fn(h)\n",
    "        return h"
   ]
  },
  {
   "cell_type": "markdown",
   "metadata": {},
   "source": [
    "### Model initialization"
   ]
  },
  {
   "cell_type": "code",
   "execution_count": 145,
   "metadata": {},
   "outputs": [],
   "source": [
    "input_dim = train_dataset.n_books"
   ]
  },
  {
   "cell_type": "code",
   "execution_count": 146,
   "metadata": {},
   "outputs": [],
   "source": [
    "enc_dims = [input_dim, 200, 10]\n",
    "model = DenoisingAE(enc_dims)\n",
    "_ = model.to(device)"
   ]
  },
  {
   "cell_type": "code",
   "execution_count": 147,
   "metadata": {},
   "outputs": [],
   "source": [
    "# Test\n",
    "y = torch.rand(5, input_dim)\n",
    "output = model(y)\n",
    "assert output.size() == (5, input_dim)"
   ]
  },
  {
   "cell_type": "markdown",
   "metadata": {
    "id": "7BMdudN9MSPT"
   },
   "source": [
    "## Code for training the model"
   ]
  },
  {
   "cell_type": "markdown",
   "metadata": {},
   "source": [
    "torch.nn.MSEloss() does not have an ignore_index parameter, so you need to take into account"
   ]
  },
  {
   "cell_type": "code",
   "execution_count": 148,
   "metadata": {
    "id": "XWEv5oI9MSPT"
   },
   "outputs": [],
   "source": [
    "def train_on_batch(model, batch, optimizer, loss_function):\n",
    "    model.train()\n",
    "    optimizer.zero_grad()\n",
    "    batch = batch.to(device)\n",
    "\n",
    "    recon_batch = model(batch)\n",
    "\n",
    "    # Compute MSE loss\n",
    "    recon_batch[batch == 0] = 0\n",
    "    unreduced_loss = loss_function(recon_batch, batch)\n",
    "    reduced_loss = torch.masked_select(unreduced_loss, unreduced_loss != 0).mean()\n",
    "    reduced_loss.backward()\n",
    "\n",
    "    optimizer.step()\n",
    "\n",
    "    return reduced_loss.to(\"cpu\").item()"
   ]
  },
  {
   "cell_type": "code",
   "execution_count": 149,
   "metadata": {},
   "outputs": [],
   "source": [
    "def train_epoch(train_generator, model, loss_function, optimizer, callback=None):\n",
    "    epoch_loss = 0.0\n",
    "    for batch in train_generator:\n",
    "        batch_loss = train_on_batch(model, batch, optimizer, loss_function)\n",
    "\n",
    "        if callback is not None:\n",
    "            model.eval()\n",
    "            with torch.no_grad():\n",
    "                callback(model, batch_loss)\n",
    "\n",
    "        epoch_loss += batch_loss\n",
    "    rmse = np.sqrt(epoch_loss)\n",
    "    return rmse"
   ]
  },
  {
   "cell_type": "code",
   "execution_count": 150,
   "metadata": {},
   "outputs": [],
   "source": [
    "def trainer(\n",
    "    count_of_epoch,\n",
    "    batch_size,\n",
    "    dataset,\n",
    "    model,\n",
    "    loss_function,\n",
    "    optimizer,\n",
    "    lr,\n",
    "    wd,\n",
    "    callback=None,\n",
    "):\n",
    "\n",
    "    optima = optimizer(model.parameters(), lr=lr, weight_decay=wd)\n",
    "\n",
    "    iterations = tqdm(range(count_of_epoch), desc=\"epoch\")\n",
    "    iterations.set_postfix({\"train epoch rmse\": np.nan})\n",
    "    for it in iterations:\n",
    "        batch_generator = tqdm(\n",
    "            torch.utils.data.DataLoader(\n",
    "                dataset=dataset, batch_size=batch_size, shuffle=True\n",
    "            ),\n",
    "            leave=False,\n",
    "            total=len(dataset) // batch_size + (len(dataset) % batch_size > 0),\n",
    "        )\n",
    "\n",
    "        epoch_loss = train_epoch(\n",
    "            train_generator=batch_generator,\n",
    "            model=model,\n",
    "            loss_function=loss_function,\n",
    "            optimizer=optima,\n",
    "            callback=callback,\n",
    "        )\n",
    "\n",
    "        iterations.set_postfix({\"train epoch rmse\": epoch_loss})"
   ]
  },
  {
   "cell_type": "code",
   "execution_count": 166,
   "metadata": {
    "id": "YJTqzA44NX4A"
   },
   "outputs": [],
   "source": [
    "class Сallback:\n",
    "    def __init__(\n",
    "        self, writer, dataset, loss_function, delimeter=1, batch_size=len(test_dataset)\n",
    "    ):\n",
    "        self.step = 0\n",
    "        self.writer = writer\n",
    "        self.delimeter = delimeter\n",
    "        self.loss_function = loss_function\n",
    "        self.batch_size = batch_size\n",
    "        self.dataset = dataset\n",
    "        self.model = model\n",
    "\n",
    "    def forward(self, model, loss):\n",
    "        self.step += 1\n",
    "        self.writer.add_scalar(\"MSE_LOSS/train\", loss, self.step)\n",
    "\n",
    "        if self.step % self.delimeter == 0:\n",
    "            total_mse, r10, r20, p10, p20 = self._testing(model)\n",
    "\n",
    "            self.writer.add_scalar(\"MSE_LOSS/test\", total_mse, self.step)\n",
    "            self.writer.add_scalar(\"Recall@10/test\", r10, self.step)\n",
    "            self.writer.add_scalar(\"Recall@20/test\", r20, self.step)\n",
    "            self.writer.add_scalar(\"Precision@10/test\", p10, self.step)\n",
    "            self.writer.add_scalar(\"Precision@20/test\", p20, self.step)\n",
    "\n",
    "    @staticmethod\n",
    "    def recall_at_k(recon_batch, batch_true, k=5):\n",
    "        batch_users = recon_batch.shape[0]\n",
    "\n",
    "        # Find indexes of the first k recommendations\n",
    "        idx = np.argpartition(-recon_batch, k, axis=1)\n",
    "\n",
    "        # Convert it to binary\n",
    "        recon_batch_binary = np.zeros_like(recon_batch, dtype=bool)\n",
    "        recon_batch_binary[np.arange(batch_users)[:, np.newaxis], idx[:, :k]] = True\n",
    "\n",
    "        batch_true_binary = batch_true > 0\n",
    "\n",
    "        # Compute recall\n",
    "        intersection_cardinality = (\n",
    "            (recon_batch_binary & batch_true_binary).sum(axis=1).astype(np.float32)\n",
    "        )\n",
    "        recall = intersection_cardinality / np.minimum(k, batch_true_binary.sum(axis=1))\n",
    "        return recall\n",
    "\n",
    "    @staticmethod\n",
    "    def precision_at_k(recon_batch, batch_true, k=5):\n",
    "        batch_users = recon_batch.shape[0]\n",
    "\n",
    "        # Find indexes of the first k recommendations\n",
    "        idx = np.argpartition(-recon_batch, k, axis=1)\n",
    "\n",
    "        # Convert it to binary\n",
    "        recon_batch_binary = np.zeros_like(recon_batch, dtype=bool)\n",
    "        recon_batch_binary[np.arange(batch_users)[:, np.newaxis], idx[:, :k]] = True\n",
    "\n",
    "        batch_true_binary = batch_true > 0\n",
    "\n",
    "        # Compute precision\n",
    "        intersection_cardinality = (\n",
    "            (recon_batch_binary & batch_true_binary).sum(axis=1).astype(np.float32)\n",
    "        )\n",
    "        precision = intersection_cardinality / k\n",
    "        return precision\n",
    "\n",
    "    def _testing(self, model):\n",
    "        model.eval()\n",
    "        total_mse = 0.0\n",
    "        r10_list, r20_list = [], []\n",
    "        p10_list, p20_list = [], []\n",
    "\n",
    "        for batch_input, batch_true in torch.utils.data.DataLoader(\n",
    "            dataset=self.dataset, batch_size=self.batch_size, shuffle=False\n",
    "        ):\n",
    "            batch_input = batch_input.to(device)\n",
    "            # batch_compare = batch_compare.to(device) Check if it important or not\n",
    "            with torch.no_grad():\n",
    "                recon_batch = model(batch_input)\n",
    "\n",
    "            # Compute MSE with synchronized reconstruction and true batches\n",
    "            recon_batch_sync = recon_batch.clone().detach()\n",
    "            recon_batch_sync[batch_true == 0] = 0\n",
    "\n",
    "            unreduced_loss = self.loss_function(recon_batch_sync, batch_true)\n",
    "            # Remove zeroes\n",
    "            reduced_loss = torch.masked_select(unreduced_loss, unreduced_loss != 0)\n",
    "            total_mse += reduced_loss.to(\"cpu\").mean().item()\n",
    "\n",
    "            # Compute other metrics\n",
    "            recon_batch = recon_batch.to(\"cpu\").numpy()\n",
    "            # batch_compare = batch_compare.to(\"cpu\").numpy()\n",
    "            batch_true = batch_true.numpy()\n",
    "            batch_input = batch_input.numpy()\n",
    "\n",
    "            # Exclude known ratings that were used to build reconstruction\n",
    "            recon_batch[batch_input.nonzero()] = float(\"-inf\")\n",
    "\n",
    "            r10 = recall_at_k(recon_batch, batch_true, 10)\n",
    "            p10 = precision_at_k(recon_batch, batch_true, 10)\n",
    "            r20 = recall_at_k(recon_batch, batch_true, 20)\n",
    "            p20 = precision_at_k(recon_batch, batch_true, 20)\n",
    "\n",
    "            r10_list.append(r10)\n",
    "            p10_list.append(p10)\n",
    "            r20_list.append(r20)\n",
    "            p20_list.append(p20)\n",
    "\n",
    "        r10_list, r20_list = np.concatenate(r10_list), np.concatenate(r20_list)\n",
    "        p10_list, p20_list = np.concatenate(p10_list), np.concatenate(p20_list)\n",
    "\n",
    "        return (\n",
    "            total_mse,\n",
    "            np.mean(r10_list),\n",
    "            np.mean(r20_list),\n",
    "            np.mean(p10_list),\n",
    "            np.mean(p20_list),\n",
    "        )\n",
    "\n",
    "    def __call__(self, model, loss):\n",
    "        return self.forward(model, loss)"
   ]
  },
  {
   "cell_type": "markdown",
   "metadata": {},
   "source": [
    "## Code for model evaluation"
   ]
  },
  {
   "cell_type": "markdown",
   "metadata": {},
   "source": [
    "### Metrics"
   ]
  },
  {
   "cell_type": "code",
   "execution_count": 152,
   "metadata": {},
   "outputs": [],
   "source": [
    "def recall_at_k(recon_batch, batch_true, k=5):\n",
    "    batch_users = recon_batch.shape[0]\n",
    "\n",
    "    # Find indexes of the first k recommendations\n",
    "    idx = np.argpartition(-recon_batch, k, axis=1)\n",
    "\n",
    "    # Convert it to binary\n",
    "    recon_batch_binary = np.zeros_like(recon_batch, dtype=bool)\n",
    "    recon_batch_binary[np.arange(batch_users)[:, np.newaxis], idx[:, :k]] = True\n",
    "\n",
    "    batch_true_binary = batch_true > 0\n",
    "\n",
    "    # Compute recall\n",
    "    intersection_cardinality = (\n",
    "        (recon_batch_binary & batch_true_binary).sum(axis=1).astype(np.float32)\n",
    "    )\n",
    "    recall = intersection_cardinality / np.minimum(k, batch_true_binary.sum(axis=1))\n",
    "    return recall"
   ]
  },
  {
   "cell_type": "code",
   "execution_count": 153,
   "metadata": {},
   "outputs": [],
   "source": [
    "def precision_at_k(recon_batch, batch_true, k=5):\n",
    "    batch_users = recon_batch.shape[0]\n",
    "\n",
    "    # Find indexes of the first k recommendations\n",
    "    idx = np.argpartition(-recon_batch, k, axis=1)\n",
    "\n",
    "    # Convert it to binary\n",
    "    recon_batch_binary = np.zeros_like(recon_batch, dtype=bool)\n",
    "    recon_batch_binary[np.arange(batch_users)[:, np.newaxis], idx[:, :k]] = True\n",
    "\n",
    "    batch_true_binary = batch_true > 0\n",
    "\n",
    "    # Compute precision\n",
    "    intersection_cardinality = (\n",
    "        (recon_batch_binary & batch_true_binary).sum(axis=1).astype(np.float32)\n",
    "    )\n",
    "    precision = intersection_cardinality / k\n",
    "    return precision"
   ]
  },
  {
   "cell_type": "markdown",
   "metadata": {},
   "source": [
    "To calculate the metrics, it is necessary to sort `k` relevant predictions, for this, the known scores of the user of the book, stored in `batch_input`, must be excluded."
   ]
  },
  {
   "cell_type": "code",
   "execution_count": 154,
   "metadata": {},
   "outputs": [],
   "source": [
    "def testing(loss_function, model, dataset, batch_size):\n",
    "    model.eval()\n",
    "    total_loss = 0.0\n",
    "    r10_list, r20_list = [], []\n",
    "    p10_list, p20_list = [], []\n",
    "\n",
    "    for batch_input, batch_true in torch.utils.data.DataLoader(\n",
    "        dataset=dataset, batch_size=batch_size, shuffle=False\n",
    "    ):\n",
    "        batch_input = batch_input.to(device)\n",
    "        # batch_compare = batch_compare.to(device) Check if it important or not\n",
    "        with torch.no_grad():\n",
    "            recon_batch = model(batch_input)\n",
    "\n",
    "        # Compute MSE with synchronized reconstruction and true batches\n",
    "        recon_batch_sync = recon_batch.clone().detach()\n",
    "        recon_batch_sync[batch_true == 0] = 0\n",
    "\n",
    "        unreduced_loss = loss_function(recon_batch_sync, batch_true)\n",
    "        # Remove zeroes\n",
    "        reduced_loss = torch.masked_select(unreduced_loss, unreduced_loss != 0)\n",
    "        total_loss += reduced_loss.to(\"cpu\").mean().item()\n",
    "\n",
    "        # Compute other metrics\n",
    "        recon_batch = recon_batch.to(\"cpu\").numpy()\n",
    "        # batch_compare = batch_compare.to(\"cpu\").numpy()\n",
    "        batch_true = batch_true.numpy()\n",
    "        batch_input = batch_input.numpy()\n",
    "\n",
    "        # Exclude known ratings that were used to build reconstruction\n",
    "        recon_batch[batch_input.nonzero()] = float(\"-inf\")\n",
    "\n",
    "        r10 = recall_at_k(recon_batch, batch_true, 10)\n",
    "        p10 = precision_at_k(recon_batch, batch_true, 10)\n",
    "        r20 = recall_at_k(recon_batch, batch_true, 20)\n",
    "        p20 = precision_at_k(recon_batch, batch_true, 20)\n",
    "\n",
    "        r10_list.append(r10)\n",
    "        p10_list.append(p10)\n",
    "        r20_list.append(r20)\n",
    "        p20_list.append(p20)\n",
    "\n",
    "    r10_list, r20_list = np.concatenate(r10_list), np.concatenate(r20_list)\n",
    "    p10_list, p20_list = np.concatenate(p10_list), np.concatenate(p20_list)\n",
    "    total_rmse = np.sqrt(total_loss)\n",
    "\n",
    "    return (\n",
    "        total_rmse,\n",
    "        np.mean(r10_list),\n",
    "        np.mean(r20_list),\n",
    "        np.mean(p10_list),\n",
    "        np.mean(p20_list),\n",
    "    )"
   ]
  },
  {
   "cell_type": "markdown",
   "metadata": {},
   "source": [
    "## Model quality before training"
   ]
  },
  {
   "cell_type": "code",
   "execution_count": 156,
   "metadata": {},
   "outputs": [],
   "source": [
    "mse = torch.nn.MSELoss(reduction=\"none\")"
   ]
  },
  {
   "cell_type": "code",
   "execution_count": 157,
   "metadata": {},
   "outputs": [],
   "source": [
    "total_rmse, r10, r20, p10, p20 = testing(mse, model, test_dataset, len(test_dataset))"
   ]
  },
  {
   "cell_type": "code",
   "execution_count": 158,
   "metadata": {},
   "outputs": [
    {
     "name": "stdout",
     "output_type": "stream",
     "text": [
      "Total RMSE: 0.8543293301836704\n",
      "\n",
      "Total recall@10: 0.0036080917874396134\n",
      "\n",
      "Total precision@10: 0.001902173855341971\n",
      "\n",
      "Total recall@20: 0.0073195373467112605\n",
      "\n",
      "Total precision@20: 0.002581521635875106\n"
     ]
    }
   ],
   "source": [
    "print(f\"Total RMSE: {total_rmse}\")\n",
    "print(f\"\\nTotal recall@10: {r10}\")\n",
    "print(f\"\\nTotal precision@10: {p10}\")\n",
    "print(f\"\\nTotal recall@20: {r20}\")\n",
    "print(f\"\\nTotal precision@20: {p20}\")"
   ]
  },
  {
   "cell_type": "markdown",
   "metadata": {},
   "source": [
    "## Model training"
   ]
  },
  {
   "cell_type": "code",
   "execution_count": 167,
   "metadata": {},
   "outputs": [],
   "source": [
    "loss_function = torch.nn.MSELoss(reduction=\"none\")\n",
    "optimizer = torch.optim.Adam"
   ]
  },
  {
   "cell_type": "code",
   "execution_count": 168,
   "metadata": {},
   "outputs": [],
   "source": [
    "writer = SummaryWriter(log_dir=\"main_train\")\n",
    "call = Сallback(writer, test_dataset, loss_function)"
   ]
  },
  {
   "cell_type": "code",
   "execution_count": 169,
   "metadata": {},
   "outputs": [
    {
     "data": {
      "application/vnd.jupyter.widget-view+json": {
       "model_id": "dc735c67dbcc4f4b9d03b236a27c167f",
       "version_major": 2,
       "version_minor": 0
      },
      "text/plain": [
       "epoch:   0%|          | 0/15 [00:00<?, ?it/s]"
      ]
     },
     "metadata": {},
     "output_type": "display_data"
    },
    {
     "data": {
      "application/vnd.jupyter.widget-view+json": {
       "model_id": "",
       "version_major": 2,
       "version_minor": 0
      },
      "text/plain": [
       "  0%|          | 0/12 [00:00<?, ?it/s]"
      ]
     },
     "metadata": {},
     "output_type": "display_data"
    },
    {
     "data": {
      "application/vnd.jupyter.widget-view+json": {
       "model_id": "",
       "version_major": 2,
       "version_minor": 0
      },
      "text/plain": [
       "  0%|          | 0/12 [00:00<?, ?it/s]"
      ]
     },
     "metadata": {},
     "output_type": "display_data"
    },
    {
     "data": {
      "application/vnd.jupyter.widget-view+json": {
       "model_id": "",
       "version_major": 2,
       "version_minor": 0
      },
      "text/plain": [
       "  0%|          | 0/12 [00:00<?, ?it/s]"
      ]
     },
     "metadata": {},
     "output_type": "display_data"
    },
    {
     "data": {
      "application/vnd.jupyter.widget-view+json": {
       "model_id": "",
       "version_major": 2,
       "version_minor": 0
      },
      "text/plain": [
       "  0%|          | 0/12 [00:00<?, ?it/s]"
      ]
     },
     "metadata": {},
     "output_type": "display_data"
    },
    {
     "data": {
      "application/vnd.jupyter.widget-view+json": {
       "model_id": "",
       "version_major": 2,
       "version_minor": 0
      },
      "text/plain": [
       "  0%|          | 0/12 [00:00<?, ?it/s]"
      ]
     },
     "metadata": {},
     "output_type": "display_data"
    },
    {
     "data": {
      "application/vnd.jupyter.widget-view+json": {
       "model_id": "",
       "version_major": 2,
       "version_minor": 0
      },
      "text/plain": [
       "  0%|          | 0/12 [00:00<?, ?it/s]"
      ]
     },
     "metadata": {},
     "output_type": "display_data"
    },
    {
     "data": {
      "application/vnd.jupyter.widget-view+json": {
       "model_id": "",
       "version_major": 2,
       "version_minor": 0
      },
      "text/plain": [
       "  0%|          | 0/12 [00:00<?, ?it/s]"
      ]
     },
     "metadata": {},
     "output_type": "display_data"
    },
    {
     "data": {
      "application/vnd.jupyter.widget-view+json": {
       "model_id": "",
       "version_major": 2,
       "version_minor": 0
      },
      "text/plain": [
       "  0%|          | 0/12 [00:00<?, ?it/s]"
      ]
     },
     "metadata": {},
     "output_type": "display_data"
    },
    {
     "data": {
      "application/vnd.jupyter.widget-view+json": {
       "model_id": "",
       "version_major": 2,
       "version_minor": 0
      },
      "text/plain": [
       "  0%|          | 0/12 [00:00<?, ?it/s]"
      ]
     },
     "metadata": {},
     "output_type": "display_data"
    },
    {
     "data": {
      "application/vnd.jupyter.widget-view+json": {
       "model_id": "",
       "version_major": 2,
       "version_minor": 0
      },
      "text/plain": [
       "  0%|          | 0/12 [00:00<?, ?it/s]"
      ]
     },
     "metadata": {},
     "output_type": "display_data"
    },
    {
     "data": {
      "application/vnd.jupyter.widget-view+json": {
       "model_id": "",
       "version_major": 2,
       "version_minor": 0
      },
      "text/plain": [
       "  0%|          | 0/12 [00:00<?, ?it/s]"
      ]
     },
     "metadata": {},
     "output_type": "display_data"
    },
    {
     "data": {
      "application/vnd.jupyter.widget-view+json": {
       "model_id": "",
       "version_major": 2,
       "version_minor": 0
      },
      "text/plain": [
       "  0%|          | 0/12 [00:00<?, ?it/s]"
      ]
     },
     "metadata": {},
     "output_type": "display_data"
    },
    {
     "data": {
      "application/vnd.jupyter.widget-view+json": {
       "model_id": "",
       "version_major": 2,
       "version_minor": 0
      },
      "text/plain": [
       "  0%|          | 0/12 [00:00<?, ?it/s]"
      ]
     },
     "metadata": {},
     "output_type": "display_data"
    },
    {
     "data": {
      "application/vnd.jupyter.widget-view+json": {
       "model_id": "",
       "version_major": 2,
       "version_minor": 0
      },
      "text/plain": [
       "  0%|          | 0/12 [00:00<?, ?it/s]"
      ]
     },
     "metadata": {},
     "output_type": "display_data"
    },
    {
     "data": {
      "application/vnd.jupyter.widget-view+json": {
       "model_id": "",
       "version_major": 2,
       "version_minor": 0
      },
      "text/plain": [
       "  0%|          | 0/12 [00:00<?, ?it/s]"
      ]
     },
     "metadata": {},
     "output_type": "display_data"
    }
   ],
   "source": [
    "trainer(\n",
    "    count_of_epoch=15,\n",
    "    batch_size=128,\n",
    "    dataset=train_dataset,\n",
    "    model=model,\n",
    "    loss_function=loss_function,\n",
    "    optimizer=optimizer,\n",
    "    lr=0.001,\n",
    "    wd=0.01,\n",
    "    callback=call,\n",
    ")"
   ]
  },
  {
   "cell_type": "code",
   "execution_count": 170,
   "metadata": {},
   "outputs": [
    {
     "data": {
      "text/html": [
       "\n",
       "      <iframe id=\"tensorboard-frame-b76d63ae959b52db\" width=\"100%\" height=\"800\" frameborder=\"0\">\n",
       "      </iframe>\n",
       "      <script>\n",
       "        (function() {\n",
       "          const frame = document.getElementById(\"tensorboard-frame-b76d63ae959b52db\");\n",
       "          const url = new URL(\"/\", window.location);\n",
       "          const port = 6006;\n",
       "          if (port) {\n",
       "            url.port = port;\n",
       "          }\n",
       "          frame.src = url;\n",
       "        })();\n",
       "      </script>\n",
       "    "
      ],
      "text/plain": [
       "<IPython.core.display.HTML object>"
      ]
     },
     "metadata": {},
     "output_type": "display_data"
    }
   ],
   "source": [
    "%load_ext tensorboard\n",
    "%tensorboard --logdir main_train/"
   ]
  },
  {
   "cell_type": "markdown",
   "metadata": {},
   "source": [
    "## Assessing the quality of the model after training"
   ]
  },
  {
   "cell_type": "code",
   "execution_count": 171,
   "metadata": {},
   "outputs": [],
   "source": [
    "total_rmse, r10, r20, p10, p20 = testing(mse, model, test_dataset, len(test_dataset))"
   ]
  },
  {
   "cell_type": "code",
   "execution_count": 172,
   "metadata": {},
   "outputs": [
    {
     "name": "stdout",
     "output_type": "stream",
     "text": [
      "Total RMSE: 0.22503697700772388\n",
      "\n",
      "Total recall@10: 0.030332341269841273\n",
      "\n",
      "Total precision@10: 0.015760870650410652\n",
      "\n",
      "Total recall@20: 0.05038066524996967\n",
      "\n",
      "Total precision@20: 0.014266304671764374\n"
     ]
    }
   ],
   "source": [
    "print(f\"Total RMSE: {total_rmse}\")\n",
    "print(f\"\\nTotal recall@10: {r10}\")\n",
    "print(f\"\\nTotal precision@10: {p10}\")\n",
    "print(f\"\\nTotal recall@20: {r20}\")\n",
    "print(f\"\\nTotal precision@20: {p20}\")"
   ]
  },
  {
   "cell_type": "markdown",
   "metadata": {},
   "source": [
    "## Iterate over space dimensions"
   ]
  },
  {
   "cell_type": "markdown",
   "metadata": {},
   "source": [
    "Let's compare the prediction quality of a multi-layer autoencoder and a single-layer one."
   ]
  },
  {
   "cell_type": "markdown",
   "metadata": {},
   "source": [
    "### Single layer autoencoder"
   ]
  },
  {
   "cell_type": "code",
   "execution_count": 223,
   "metadata": {},
   "outputs": [],
   "source": [
    "# for d in [512, 256, 128, 64, 32, 16, 8, 4, 2]:\n",
    "#     enc_dims = [input_dim, d]\n",
    "#     autoencoder = DenoisingAE(enc_dims)\n",
    "#     _ = autoencoder.to(device)\n",
    "\n",
    "#     writer = SummaryWriter(log_dir=\"onelayer_autoencoder/dim_{}\".format(d))\n",
    "#     call = Сallback(writer, test_dataset, loss_function)\n",
    "\n",
    "#     trainer(\n",
    "#         count_of_epoch=15,\n",
    "#         batch_size=128,\n",
    "#         dataset=train_dataset,\n",
    "#         model=autoencoder,\n",
    "#         loss_function=loss_function,\n",
    "#         optimizer=optimizer,\n",
    "#         lr=0.001,\n",
    "#         wd=0.01,\n",
    "#         callback=call,\n",
    "#     )"
   ]
  },
  {
   "cell_type": "code",
   "execution_count": 177,
   "metadata": {
    "scrolled": true
   },
   "outputs": [
    {
     "name": "stdout",
     "output_type": "stream",
     "text": [
      "The tensorboard extension is already loaded. To reload it, use:\n",
      "  %reload_ext tensorboard\n"
     ]
    },
    {
     "data": {
      "text/plain": [
       "Reusing TensorBoard on port 6007 (pid 62699), started 0:04:05 ago. (Use '!kill 62699' to kill it.)"
      ]
     },
     "metadata": {},
     "output_type": "display_data"
    },
    {
     "data": {
      "text/html": [
       "\n",
       "      <iframe id=\"tensorboard-frame-5dc1807bc20dca39\" width=\"100%\" height=\"800\" frameborder=\"0\">\n",
       "      </iframe>\n",
       "      <script>\n",
       "        (function() {\n",
       "          const frame = document.getElementById(\"tensorboard-frame-5dc1807bc20dca39\");\n",
       "          const url = new URL(\"/\", window.location);\n",
       "          const port = 6007;\n",
       "          if (port) {\n",
       "            url.port = port;\n",
       "          }\n",
       "          frame.src = url;\n",
       "        })();\n",
       "      </script>\n",
       "    "
      ],
      "text/plain": [
       "<IPython.core.display.HTML object>"
      ]
     },
     "metadata": {},
     "output_type": "display_data"
    }
   ],
   "source": [
    "%load_ext tensorboard\n",
    "%tensorboard --logdir onelayer_autoencoder/"
   ]
  },
  {
   "cell_type": "markdown",
   "metadata": {},
   "source": [
    "For a single-layer autoencoder, the dimension of the hidden layer `d = 32` turned out to be optimal in terms of ranking quality metrics, while the MSE is higher than that of the dimensions `d > d = 32`."
   ]
  },
  {
   "cell_type": "code",
   "execution_count": 179,
   "metadata": {},
   "outputs": [
    {
     "data": {
      "application/vnd.jupyter.widget-view+json": {
       "model_id": "6498550554e84987895c8f23ed875945",
       "version_major": 2,
       "version_minor": 0
      },
      "text/plain": [
       "epoch:   0%|          | 0/15 [00:00<?, ?it/s]"
      ]
     },
     "metadata": {},
     "output_type": "display_data"
    },
    {
     "data": {
      "application/vnd.jupyter.widget-view+json": {
       "model_id": "",
       "version_major": 2,
       "version_minor": 0
      },
      "text/plain": [
       "  0%|          | 0/12 [00:00<?, ?it/s]"
      ]
     },
     "metadata": {},
     "output_type": "display_data"
    },
    {
     "data": {
      "application/vnd.jupyter.widget-view+json": {
       "model_id": "",
       "version_major": 2,
       "version_minor": 0
      },
      "text/plain": [
       "  0%|          | 0/12 [00:00<?, ?it/s]"
      ]
     },
     "metadata": {},
     "output_type": "display_data"
    },
    {
     "data": {
      "application/vnd.jupyter.widget-view+json": {
       "model_id": "",
       "version_major": 2,
       "version_minor": 0
      },
      "text/plain": [
       "  0%|          | 0/12 [00:00<?, ?it/s]"
      ]
     },
     "metadata": {},
     "output_type": "display_data"
    },
    {
     "data": {
      "application/vnd.jupyter.widget-view+json": {
       "model_id": "",
       "version_major": 2,
       "version_minor": 0
      },
      "text/plain": [
       "  0%|          | 0/12 [00:00<?, ?it/s]"
      ]
     },
     "metadata": {},
     "output_type": "display_data"
    },
    {
     "data": {
      "application/vnd.jupyter.widget-view+json": {
       "model_id": "",
       "version_major": 2,
       "version_minor": 0
      },
      "text/plain": [
       "  0%|          | 0/12 [00:00<?, ?it/s]"
      ]
     },
     "metadata": {},
     "output_type": "display_data"
    },
    {
     "data": {
      "application/vnd.jupyter.widget-view+json": {
       "model_id": "",
       "version_major": 2,
       "version_minor": 0
      },
      "text/plain": [
       "  0%|          | 0/12 [00:00<?, ?it/s]"
      ]
     },
     "metadata": {},
     "output_type": "display_data"
    },
    {
     "data": {
      "application/vnd.jupyter.widget-view+json": {
       "model_id": "",
       "version_major": 2,
       "version_minor": 0
      },
      "text/plain": [
       "  0%|          | 0/12 [00:00<?, ?it/s]"
      ]
     },
     "metadata": {},
     "output_type": "display_data"
    },
    {
     "data": {
      "application/vnd.jupyter.widget-view+json": {
       "model_id": "",
       "version_major": 2,
       "version_minor": 0
      },
      "text/plain": [
       "  0%|          | 0/12 [00:00<?, ?it/s]"
      ]
     },
     "metadata": {},
     "output_type": "display_data"
    },
    {
     "data": {
      "application/vnd.jupyter.widget-view+json": {
       "model_id": "",
       "version_major": 2,
       "version_minor": 0
      },
      "text/plain": [
       "  0%|          | 0/12 [00:00<?, ?it/s]"
      ]
     },
     "metadata": {},
     "output_type": "display_data"
    },
    {
     "data": {
      "application/vnd.jupyter.widget-view+json": {
       "model_id": "",
       "version_major": 2,
       "version_minor": 0
      },
      "text/plain": [
       "  0%|          | 0/12 [00:00<?, ?it/s]"
      ]
     },
     "metadata": {},
     "output_type": "display_data"
    },
    {
     "data": {
      "application/vnd.jupyter.widget-view+json": {
       "model_id": "",
       "version_major": 2,
       "version_minor": 0
      },
      "text/plain": [
       "  0%|          | 0/12 [00:00<?, ?it/s]"
      ]
     },
     "metadata": {},
     "output_type": "display_data"
    },
    {
     "data": {
      "application/vnd.jupyter.widget-view+json": {
       "model_id": "",
       "version_major": 2,
       "version_minor": 0
      },
      "text/plain": [
       "  0%|          | 0/12 [00:00<?, ?it/s]"
      ]
     },
     "metadata": {},
     "output_type": "display_data"
    },
    {
     "data": {
      "application/vnd.jupyter.widget-view+json": {
       "model_id": "",
       "version_major": 2,
       "version_minor": 0
      },
      "text/plain": [
       "  0%|          | 0/12 [00:00<?, ?it/s]"
      ]
     },
     "metadata": {},
     "output_type": "display_data"
    },
    {
     "data": {
      "application/vnd.jupyter.widget-view+json": {
       "model_id": "",
       "version_major": 2,
       "version_minor": 0
      },
      "text/plain": [
       "  0%|          | 0/12 [00:00<?, ?it/s]"
      ]
     },
     "metadata": {},
     "output_type": "display_data"
    },
    {
     "data": {
      "application/vnd.jupyter.widget-view+json": {
       "model_id": "",
       "version_major": 2,
       "version_minor": 0
      },
      "text/plain": [
       "  0%|          | 0/12 [00:00<?, ?it/s]"
      ]
     },
     "metadata": {},
     "output_type": "display_data"
    }
   ],
   "source": [
    "autoencoder_32 = DenoisingAE([input_dim, 32])\n",
    "_ = autoencoder_32.to(device)\n",
    "\n",
    "trainer(\n",
    "    count_of_epoch=15,\n",
    "    batch_size=128,\n",
    "    dataset=train_dataset,\n",
    "    model=autoencoder_32,\n",
    "    loss_function=loss_function,\n",
    "    optimizer=optimizer,\n",
    "    lr=0.001,\n",
    "    wd=0.01,\n",
    "    callback=None,\n",
    ")"
   ]
  },
  {
   "cell_type": "code",
   "execution_count": 182,
   "metadata": {},
   "outputs": [],
   "source": [
    "total_rmse, r10, r20, p10, p20 = testing(\n",
    "    mse, autoencoder_32, test_dataset, len(test_dataset)\n",
    ")"
   ]
  },
  {
   "cell_type": "code",
   "execution_count": 183,
   "metadata": {},
   "outputs": [
    {
     "name": "stdout",
     "output_type": "stream",
     "text": [
      "Total RMSE: 0.4510571717936922\n",
      "\n",
      "Total recall@10: 0.04232983954451345\n",
      "\n",
      "Total precision@10: 0.023913046345114708\n",
      "\n",
      "Total recall@20: 0.055995539151288576\n",
      "\n",
      "Total precision@20: 0.017391305416822433\n"
     ]
    }
   ],
   "source": [
    "print(f\"Total RMSE: {total_rmse}\")\n",
    "print(f\"\\nTotal recall@10: {r10}\")\n",
    "print(f\"\\nTotal precision@10: {p10}\")\n",
    "print(f\"\\nTotal recall@20: {r20}\")\n",
    "print(f\"\\nTotal precision@20: {p20}\")"
   ]
  },
  {
   "cell_type": "markdown",
   "metadata": {},
   "source": [
    "### Multilayer autoencoder"
   ]
  },
  {
   "cell_type": "code",
   "execution_count": 186,
   "metadata": {},
   "outputs": [],
   "source": [
    "# # Ignore very little dimensions\n",
    "# for d1 in [512, 256, 128, 64, 32, 16]:\n",
    "#     for d2 in [16, 32, 64, 128, 256, 512]:\n",
    "#         enc_dims = [input_dim, d1, d2]\n",
    "#         autoencoder = DenoisingAE(enc_dims)\n",
    "#         _ = autoencoder.to(device)\n",
    "\n",
    "#         writer = SummaryWriter(log_dir=f\"multilayer_autoencoder/dim1_{d1}/dim2_{d2}\")\n",
    "#         call = Сallback(writer, test_dataset, loss_function)\n",
    "\n",
    "#         trainer(\n",
    "#             count_of_epoch=15,\n",
    "#             batch_size=128,\n",
    "#             dataset=train_dataset,\n",
    "#             model=autoencoder,\n",
    "#             loss_function=loss_function,\n",
    "#             optimizer=optimizer,\n",
    "#             lr=0.001,\n",
    "#             wd=0.01,\n",
    "#             callback=call,\n",
    "#         )"
   ]
  },
  {
   "cell_type": "code",
   "execution_count": 199,
   "metadata": {
    "scrolled": false
   },
   "outputs": [
    {
     "name": "stdout",
     "output_type": "stream",
     "text": [
      "The tensorboard extension is already loaded. To reload it, use:\n",
      "  %reload_ext tensorboard\n"
     ]
    },
    {
     "data": {
      "text/plain": [
       "Reusing TensorBoard on port 6011 (pid 65135), started 16:23:36 ago. (Use '!kill 65135' to kill it.)"
      ]
     },
     "metadata": {},
     "output_type": "display_data"
    },
    {
     "data": {
      "text/html": [
       "\n",
       "      <iframe id=\"tensorboard-frame-9556eb0ca180d336\" width=\"100%\" height=\"800\" frameborder=\"0\">\n",
       "      </iframe>\n",
       "      <script>\n",
       "        (function() {\n",
       "          const frame = document.getElementById(\"tensorboard-frame-9556eb0ca180d336\");\n",
       "          const url = new URL(\"/\", window.location);\n",
       "          const port = 6011;\n",
       "          if (port) {\n",
       "            url.port = port;\n",
       "          }\n",
       "          frame.src = url;\n",
       "        })();\n",
       "      </script>\n",
       "    "
      ],
      "text/plain": [
       "<IPython.core.display.HTML object>"
      ]
     },
     "metadata": {},
     "output_type": "display_data"
    }
   ],
   "source": [
    "%load_ext tensorboard\n",
    "%tensorboard --logdir multilayer_autoencoder/dim1_32"
   ]
  },
  {
   "cell_type": "markdown",
   "metadata": {},
   "source": [
    "Comparing the quality of ranking, the optimal model for both metrics is the model with the dimensions of the layers:\n",
    "`d1 = 32` and `d2 = 32`."
   ]
  },
  {
   "cell_type": "markdown",
   "metadata": {},
   "source": [
    "## Selection of training parameters"
   ]
  },
  {
   "cell_type": "markdown",
   "metadata": {},
   "source": [
    "For this architecture, we select the optimal training parameters."
   ]
  },
  {
   "cell_type": "code",
   "execution_count": 209,
   "metadata": {},
   "outputs": [],
   "source": [
    "# for n_epoch in [10, 20, 50, 100]:\n",
    "#     for lr in [0.0001, 0.001, 0.01]:\n",
    "#         for wd in [0, 0.1, 0.01, 0.001]:\n",
    "#             autoencoder32_32 = DenoisingAE([input_dim, 32, 32])\n",
    "#             _ = autoencoder32_32.to(device)\n",
    "\n",
    "#             writer = SummaryWriter(log_dir=f\"test_32_32/lr_{lr}/epoch_{n_epoch}/wd_{wd}\")\n",
    "#             call = Сallback(writer, test_dataset, loss_function)\n",
    "\n",
    "#             trainer(\n",
    "#                 count_of_epoch=n_epoch,\n",
    "#                 batch_size=128,\n",
    "#                 dataset=train_dataset,\n",
    "#                 model=autoencoder32_32,\n",
    "#                 loss_function=loss_function,\n",
    "#                 optimizer=optimizer,\n",
    "#                 lr=lr,\n",
    "#                 wd=0.01,\n",
    "#                 callback=call,\n",
    "#             )"
   ]
  },
  {
   "cell_type": "code",
   "execution_count": 210,
   "metadata": {},
   "outputs": [
    {
     "name": "stdout",
     "output_type": "stream",
     "text": [
      "The tensorboard extension is already loaded. To reload it, use:\n",
      "  %reload_ext tensorboard\n"
     ]
    },
    {
     "data": {
      "text/plain": [
       "Reusing TensorBoard on port 6016 (pid 77857), started 1:51:56 ago. (Use '!kill 77857' to kill it.)"
      ]
     },
     "metadata": {},
     "output_type": "display_data"
    },
    {
     "data": {
      "text/html": [
       "\n",
       "      <iframe id=\"tensorboard-frame-2212b5aa1153d455\" width=\"100%\" height=\"800\" frameborder=\"0\">\n",
       "      </iframe>\n",
       "      <script>\n",
       "        (function() {\n",
       "          const frame = document.getElementById(\"tensorboard-frame-2212b5aa1153d455\");\n",
       "          const url = new URL(\"/\", window.location);\n",
       "          const port = 6016;\n",
       "          if (port) {\n",
       "            url.port = port;\n",
       "          }\n",
       "          frame.src = url;\n",
       "        })();\n",
       "      </script>\n",
       "    "
      ],
      "text/plain": [
       "<IPython.core.display.HTML object>"
      ]
     },
     "metadata": {},
     "output_type": "display_data"
    }
   ],
   "source": [
    "%load_ext tensorboard\n",
    "%tensorboard --logdir test_32_32/"
   ]
  },
  {
   "cell_type": "markdown",
   "metadata": {},
   "source": [
    "Best options:\n",
    "- `count_of_epoch=10`\n",
    "- `lr=0.001`\n",
    "- `wd=0.01`"
   ]
  },
  {
   "cell_type": "code",
   "execution_count": 220,
   "metadata": {},
   "outputs": [
    {
     "data": {
      "application/vnd.jupyter.widget-view+json": {
       "model_id": "2461ba2a5e654e63af68efc474935d42",
       "version_major": 2,
       "version_minor": 0
      },
      "text/plain": [
       "epoch:   0%|          | 0/10 [00:00<?, ?it/s]"
      ]
     },
     "metadata": {},
     "output_type": "display_data"
    },
    {
     "data": {
      "application/vnd.jupyter.widget-view+json": {
       "model_id": "",
       "version_major": 2,
       "version_minor": 0
      },
      "text/plain": [
       "  0%|          | 0/12 [00:00<?, ?it/s]"
      ]
     },
     "metadata": {},
     "output_type": "display_data"
    },
    {
     "data": {
      "application/vnd.jupyter.widget-view+json": {
       "model_id": "",
       "version_major": 2,
       "version_minor": 0
      },
      "text/plain": [
       "  0%|          | 0/12 [00:00<?, ?it/s]"
      ]
     },
     "metadata": {},
     "output_type": "display_data"
    },
    {
     "data": {
      "application/vnd.jupyter.widget-view+json": {
       "model_id": "",
       "version_major": 2,
       "version_minor": 0
      },
      "text/plain": [
       "  0%|          | 0/12 [00:00<?, ?it/s]"
      ]
     },
     "metadata": {},
     "output_type": "display_data"
    },
    {
     "data": {
      "application/vnd.jupyter.widget-view+json": {
       "model_id": "",
       "version_major": 2,
       "version_minor": 0
      },
      "text/plain": [
       "  0%|          | 0/12 [00:00<?, ?it/s]"
      ]
     },
     "metadata": {},
     "output_type": "display_data"
    },
    {
     "data": {
      "application/vnd.jupyter.widget-view+json": {
       "model_id": "",
       "version_major": 2,
       "version_minor": 0
      },
      "text/plain": [
       "  0%|          | 0/12 [00:00<?, ?it/s]"
      ]
     },
     "metadata": {},
     "output_type": "display_data"
    },
    {
     "data": {
      "application/vnd.jupyter.widget-view+json": {
       "model_id": "",
       "version_major": 2,
       "version_minor": 0
      },
      "text/plain": [
       "  0%|          | 0/12 [00:00<?, ?it/s]"
      ]
     },
     "metadata": {},
     "output_type": "display_data"
    },
    {
     "data": {
      "application/vnd.jupyter.widget-view+json": {
       "model_id": "",
       "version_major": 2,
       "version_minor": 0
      },
      "text/plain": [
       "  0%|          | 0/12 [00:00<?, ?it/s]"
      ]
     },
     "metadata": {},
     "output_type": "display_data"
    },
    {
     "data": {
      "application/vnd.jupyter.widget-view+json": {
       "model_id": "",
       "version_major": 2,
       "version_minor": 0
      },
      "text/plain": [
       "  0%|          | 0/12 [00:00<?, ?it/s]"
      ]
     },
     "metadata": {},
     "output_type": "display_data"
    },
    {
     "data": {
      "application/vnd.jupyter.widget-view+json": {
       "model_id": "",
       "version_major": 2,
       "version_minor": 0
      },
      "text/plain": [
       "  0%|          | 0/12 [00:00<?, ?it/s]"
      ]
     },
     "metadata": {},
     "output_type": "display_data"
    },
    {
     "data": {
      "application/vnd.jupyter.widget-view+json": {
       "model_id": "",
       "version_major": 2,
       "version_minor": 0
      },
      "text/plain": [
       "  0%|          | 0/12 [00:00<?, ?it/s]"
      ]
     },
     "metadata": {},
     "output_type": "display_data"
    }
   ],
   "source": [
    "autoencoder32_32 = DenoisingAE([input_dim, 32, 32])\n",
    "_ = autoencoder32_32.to(device)\n",
    "\n",
    "trainer(\n",
    "    count_of_epoch=10,\n",
    "    batch_size=128,\n",
    "    dataset=train_dataset,\n",
    "    model=autoencoder32_32,\n",
    "    loss_function=loss_function,\n",
    "    optimizer=optimizer,\n",
    "    lr=0.001,\n",
    "    wd=0.01,\n",
    "    callback=None,\n",
    ")"
   ]
  },
  {
   "cell_type": "code",
   "execution_count": 221,
   "metadata": {},
   "outputs": [],
   "source": [
    "total_rmse, r10, r20, p10, p20 = testing(\n",
    "    mse, autoencoder32_32, test_dataset, len(test_dataset)\n",
    ")"
   ]
  },
  {
   "cell_type": "code",
   "execution_count": 222,
   "metadata": {},
   "outputs": [
    {
     "name": "stdout",
     "output_type": "stream",
     "text": [
      "Total RMSE: 0.4141933486327525\n",
      "\n",
      "Total recall@10: 0.03526462215320911\n",
      "\n",
      "Total precision@10: 0.020108696073293686\n",
      "\n",
      "Total recall@20: 0.05556759788255447\n",
      "\n",
      "Total precision@20: 0.017527174204587936\n"
     ]
    }
   ],
   "source": [
    "print(f\"Total RMSE: {total_rmse}\")\n",
    "print(f\"\\nTotal recall@10: {r10}\")\n",
    "print(f\"\\nTotal precision@10: {p10}\")\n",
    "print(f\"\\nTotal recall@20: {r20}\")\n",
    "print(f\"\\nTotal precision@20: {p20}\")"
   ]
  },
  {
   "cell_type": "markdown",
   "metadata": {},
   "source": [
    "## Conclusions"
   ]
  },
  {
   "cell_type": "markdown",
   "metadata": {},
   "source": [
    "- The main feature of the dataset is that there is little statistically significant data (users who have rated enough books / books that have a sufficient number of ratings), which is a problem. A good recommender system based on the autoencoder did not work out.\n",
    "- Despite this training is successful -> MSE falls, ranking quality metrics increase by several tens of times in comparison with the random model. In the case of some architectures, an almost monotonous increase in precision and recall is observed. It was also confirmed that achieving a more satisfactory rating prediction quality does not necessarily lead to an improvement in the ranking quality.\n",
    "- The indicators of the metrics of models with a single-layer architecture and a multi-layer one do not differ much, the dimension of the hidden layer `d=32` turned out to be optimal everywhere.\n",
    "- A more advanced approach, which consists in building an autoencoder that takes into account additional features of the user and books (feature enrichment, solving the \"cold start\" problem), does not seem rational, since more data is needed to learn embeddings."
   ]
  }
 ],
 "metadata": {
  "accelerator": "GPU",
  "celltoolbar": "Slideshow",
  "colab": {
   "name": "main.ipynb",
   "provenance": [],
   "toc_visible": true
  },
  "kernelspec": {
   "display_name": "Python 3.10.8 64-bit (microsoft store)",
   "language": "python",
   "name": "python3"
  },
  "language_info": {
   "codemirror_mode": {
    "name": "ipython",
    "version": 3
   },
   "file_extension": ".py",
   "mimetype": "text/x-python",
   "name": "python",
   "nbconvert_exporter": "python",
   "pygments_lexer": "ipython3",
   "version": "3.10.8"
  },
  "varInspector": {
   "cols": {
    "lenName": 16,
    "lenType": 16,
    "lenVar": 40
   },
   "kernels_config": {
    "python": {
     "delete_cmd_postfix": "",
     "delete_cmd_prefix": "del ",
     "library": "var_list.py",
     "varRefreshCmd": "print(var_dic_list())"
    },
    "r": {
     "delete_cmd_postfix": ") ",
     "delete_cmd_prefix": "rm(",
     "library": "var_list.r",
     "varRefreshCmd": "cat(var_dic_list()) "
    }
   },
   "types_to_exclude": [
    "module",
    "function",
    "builtin_function_or_method",
    "instance",
    "_Feature"
   ],
   "window_display": false
  },
  "vscode": {
   "interpreter": {
    "hash": "04a2fd1d865969964f597cc069d7d540508e869d83f54a868dd068f95ed31db8"
   }
  }
 },
 "nbformat": 4,
 "nbformat_minor": 1
}
