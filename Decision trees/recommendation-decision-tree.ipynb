{
 "cells": [
  {
   "cell_type": "markdown",
   "id": "dc50d4d3",
   "metadata": {},
   "source": [
    "# Solution decision tree algorithm"
   ]
  },
  {
   "cell_type": "markdown",
   "id": "34d2f43c",
   "metadata": {
    "_cell_guid": "b1076dfc-b9ad-4769-8c92-a6c4dae69d19",
    "_uuid": "8f2839f25d086af736a60e9eeb907d3b93b6e0e5",
    "execution": {
     "iopub.execute_input": "2022-09-07T12:54:58.136705Z",
     "iopub.status.busy": "2022-09-07T12:54:58.136168Z",
     "iopub.status.idle": "2022-09-07T12:54:58.157960Z",
     "shell.execute_reply": "2022-09-07T12:54:58.156786Z"
    },
    "papermill": {
     "duration": 0.041699,
     "end_time": "2022-09-07T12:54:58.160865",
     "exception": false,
     "start_time": "2022-09-07T12:54:58.119166",
     "status": "completed"
    },
    "tags": []
   },
   "source": [
    "## Customization and import"
   ]
  },
  {
   "cell_type": "code",
   "execution_count": 245,
   "id": "21f3e064",
   "metadata": {},
   "outputs": [],
   "source": [
    "import numpy as np\n",
    "import pandas as pd\n",
    "import matplotlib.pyplot as plt \n",
    "from sklearn.preprocessing import LabelEncoder\n",
    "from sklearn.preprocessing import StandardScaler\n",
    "from sklearn.tree import DecisionTreeClassifier\n",
    "from sklearn.model_selection import train_test_split\n",
    "from sklearn import metrics\n",
    "from sklearn.feature_selection import SelectKBest \n",
    "from sklearn.feature_selection import chi2 "
   ]
  },
  {
   "cell_type": "markdown",
   "id": "09f0c5be",
   "metadata": {},
   "source": [
    "## Data analysis and Dataset Preparation"
   ]
  },
  {
   "cell_type": "code",
   "execution_count": 246,
   "id": "305a7cca",
   "metadata": {
    "execution": {
     "iopub.execute_input": "2022-09-07T12:54:59.713632Z",
     "iopub.status.busy": "2022-09-07T12:54:59.713151Z",
     "iopub.status.idle": "2022-09-07T12:55:00.791353Z",
     "shell.execute_reply": "2022-09-07T12:55:00.789636Z"
    },
    "papermill": {
     "duration": 1.096752,
     "end_time": "2022-09-07T12:55:00.794030",
     "exception": false,
     "start_time": "2022-09-07T12:54:59.697278",
     "status": "completed"
    },
    "tags": []
   },
   "outputs": [
    {
     "name": "stdout",
     "output_type": "stream",
     "text": [
      "(1149780, 3)\n"
     ]
    },
    {
     "data": {
      "text/html": [
       "<div>\n",
       "<style scoped>\n",
       "    .dataframe tbody tr th:only-of-type {\n",
       "        vertical-align: middle;\n",
       "    }\n",
       "\n",
       "    .dataframe tbody tr th {\n",
       "        vertical-align: top;\n",
       "    }\n",
       "\n",
       "    .dataframe thead th {\n",
       "        text-align: right;\n",
       "    }\n",
       "</style>\n",
       "<table border=\"1\" class=\"dataframe\">\n",
       "  <thead>\n",
       "    <tr style=\"text-align: right;\">\n",
       "      <th></th>\n",
       "      <th>User-ID</th>\n",
       "      <th>ISBN</th>\n",
       "      <th>Book-Rating</th>\n",
       "    </tr>\n",
       "  </thead>\n",
       "  <tbody>\n",
       "    <tr>\n",
       "      <th>0</th>\n",
       "      <td>276725</td>\n",
       "      <td>034545104X</td>\n",
       "      <td>0</td>\n",
       "    </tr>\n",
       "    <tr>\n",
       "      <th>1</th>\n",
       "      <td>276726</td>\n",
       "      <td>0155061224</td>\n",
       "      <td>5</td>\n",
       "    </tr>\n",
       "    <tr>\n",
       "      <th>2</th>\n",
       "      <td>276727</td>\n",
       "      <td>0446520802</td>\n",
       "      <td>0</td>\n",
       "    </tr>\n",
       "    <tr>\n",
       "      <th>3</th>\n",
       "      <td>276729</td>\n",
       "      <td>052165615X</td>\n",
       "      <td>3</td>\n",
       "    </tr>\n",
       "    <tr>\n",
       "      <th>4</th>\n",
       "      <td>276729</td>\n",
       "      <td>0521795028</td>\n",
       "      <td>6</td>\n",
       "    </tr>\n",
       "  </tbody>\n",
       "</table>\n",
       "</div>"
      ],
      "text/plain": [
       "   User-ID        ISBN  Book-Rating\n",
       "0   276725  034545104X            0\n",
       "1   276726  0155061224            5\n",
       "2   276727  0446520802            0\n",
       "3   276729  052165615X            3\n",
       "4   276729  0521795028            6"
      ]
     },
     "execution_count": 246,
     "metadata": {},
     "output_type": "execute_result"
    }
   ],
   "source": [
    "df_rating = pd.read_csv(\"../input/book-recommendation-dataset/Ratings.csv\")\n",
    "print(df_rating.shape)\n",
    "df_rating.head()"
   ]
  },
  {
   "cell_type": "code",
   "execution_count": 247,
   "id": "71181051",
   "metadata": {
    "execution": {
     "iopub.execute_input": "2022-09-07T12:55:00.823141Z",
     "iopub.status.busy": "2022-09-07T12:55:00.822134Z",
     "iopub.status.idle": "2022-09-07T12:55:03.699570Z",
     "shell.execute_reply": "2022-09-07T12:55:03.698028Z"
    },
    "papermill": {
     "duration": 2.896073,
     "end_time": "2022-09-07T12:55:03.703500",
     "exception": false,
     "start_time": "2022-09-07T12:55:00.807427",
     "status": "completed"
    },
    "tags": []
   },
   "outputs": [
    {
     "name": "stdout",
     "output_type": "stream",
     "text": [
      "(271360, 8)\n"
     ]
    },
    {
     "name": "stderr",
     "output_type": "stream",
     "text": [
      "C:\\Users\\Mi\\anaconda3\\lib\\site-packages\\IPython\\core\\interactiveshell.py:3106: DtypeWarning: Columns (3) have mixed types.Specify dtype option on import or set low_memory=False.\n",
      "  has_raised = await self.run_ast_nodes(code_ast.body, cell_name,\n"
     ]
    },
    {
     "data": {
      "text/html": [
       "<div>\n",
       "<style scoped>\n",
       "    .dataframe tbody tr th:only-of-type {\n",
       "        vertical-align: middle;\n",
       "    }\n",
       "\n",
       "    .dataframe tbody tr th {\n",
       "        vertical-align: top;\n",
       "    }\n",
       "\n",
       "    .dataframe thead th {\n",
       "        text-align: right;\n",
       "    }\n",
       "</style>\n",
       "<table border=\"1\" class=\"dataframe\">\n",
       "  <thead>\n",
       "    <tr style=\"text-align: right;\">\n",
       "      <th></th>\n",
       "      <th>ISBN</th>\n",
       "      <th>Book-Title</th>\n",
       "      <th>Book-Author</th>\n",
       "      <th>Year-Of-Publication</th>\n",
       "      <th>Publisher</th>\n",
       "      <th>Image-URL-S</th>\n",
       "      <th>Image-URL-M</th>\n",
       "      <th>Image-URL-L</th>\n",
       "    </tr>\n",
       "  </thead>\n",
       "  <tbody>\n",
       "    <tr>\n",
       "      <th>0</th>\n",
       "      <td>0195153448</td>\n",
       "      <td>Classical Mythology</td>\n",
       "      <td>Mark P. O. Morford</td>\n",
       "      <td>2002</td>\n",
       "      <td>Oxford University Press</td>\n",
       "      <td>http://images.amazon.com/images/P/0195153448.0...</td>\n",
       "      <td>http://images.amazon.com/images/P/0195153448.0...</td>\n",
       "      <td>http://images.amazon.com/images/P/0195153448.0...</td>\n",
       "    </tr>\n",
       "    <tr>\n",
       "      <th>1</th>\n",
       "      <td>0002005018</td>\n",
       "      <td>Clara Callan</td>\n",
       "      <td>Richard Bruce Wright</td>\n",
       "      <td>2001</td>\n",
       "      <td>HarperFlamingo Canada</td>\n",
       "      <td>http://images.amazon.com/images/P/0002005018.0...</td>\n",
       "      <td>http://images.amazon.com/images/P/0002005018.0...</td>\n",
       "      <td>http://images.amazon.com/images/P/0002005018.0...</td>\n",
       "    </tr>\n",
       "  </tbody>\n",
       "</table>\n",
       "</div>"
      ],
      "text/plain": [
       "         ISBN           Book-Title           Book-Author Year-Of-Publication  \\\n",
       "0  0195153448  Classical Mythology    Mark P. O. Morford                2002   \n",
       "1  0002005018         Clara Callan  Richard Bruce Wright                2001   \n",
       "\n",
       "                 Publisher                                        Image-URL-S  \\\n",
       "0  Oxford University Press  http://images.amazon.com/images/P/0195153448.0...   \n",
       "1    HarperFlamingo Canada  http://images.amazon.com/images/P/0002005018.0...   \n",
       "\n",
       "                                         Image-URL-M  \\\n",
       "0  http://images.amazon.com/images/P/0195153448.0...   \n",
       "1  http://images.amazon.com/images/P/0002005018.0...   \n",
       "\n",
       "                                         Image-URL-L  \n",
       "0  http://images.amazon.com/images/P/0195153448.0...  \n",
       "1  http://images.amazon.com/images/P/0002005018.0...  "
      ]
     },
     "execution_count": 247,
     "metadata": {},
     "output_type": "execute_result"
    }
   ],
   "source": [
    "df_book = pd.read_csv(\"../input/book-recommendation-dataset/Books.csv\")\n",
    "print(df_book.shape)\n",
    "df_book.head(2)"
   ]
  },
  {
   "cell_type": "code",
   "execution_count": 248,
   "id": "36c82fa2",
   "metadata": {
    "execution": {
     "iopub.execute_input": "2022-09-07T12:55:03.732618Z",
     "iopub.status.busy": "2022-09-07T12:55:03.732194Z",
     "iopub.status.idle": "2022-09-07T12:55:04.131660Z",
     "shell.execute_reply": "2022-09-07T12:55:04.130112Z"
    },
    "papermill": {
     "duration": 0.417142,
     "end_time": "2022-09-07T12:55:04.134616",
     "exception": false,
     "start_time": "2022-09-07T12:55:03.717474",
     "status": "completed"
    },
    "tags": []
   },
   "outputs": [
    {
     "name": "stdout",
     "output_type": "stream",
     "text": [
      "(278858, 3)\n"
     ]
    },
    {
     "data": {
      "text/html": [
       "<div>\n",
       "<style scoped>\n",
       "    .dataframe tbody tr th:only-of-type {\n",
       "        vertical-align: middle;\n",
       "    }\n",
       "\n",
       "    .dataframe tbody tr th {\n",
       "        vertical-align: top;\n",
       "    }\n",
       "\n",
       "    .dataframe thead th {\n",
       "        text-align: right;\n",
       "    }\n",
       "</style>\n",
       "<table border=\"1\" class=\"dataframe\">\n",
       "  <thead>\n",
       "    <tr style=\"text-align: right;\">\n",
       "      <th></th>\n",
       "      <th>User-ID</th>\n",
       "      <th>Location</th>\n",
       "      <th>Age</th>\n",
       "    </tr>\n",
       "  </thead>\n",
       "  <tbody>\n",
       "    <tr>\n",
       "      <th>0</th>\n",
       "      <td>1</td>\n",
       "      <td>nyc, new york, usa</td>\n",
       "      <td>NaN</td>\n",
       "    </tr>\n",
       "    <tr>\n",
       "      <th>1</th>\n",
       "      <td>2</td>\n",
       "      <td>stockton, california, usa</td>\n",
       "      <td>18.0</td>\n",
       "    </tr>\n",
       "  </tbody>\n",
       "</table>\n",
       "</div>"
      ],
      "text/plain": [
       "   User-ID                   Location   Age\n",
       "0        1         nyc, new york, usa   NaN\n",
       "1        2  stockton, california, usa  18.0"
      ]
     },
     "execution_count": 248,
     "metadata": {},
     "output_type": "execute_result"
    }
   ],
   "source": [
    "df_user = pd.read_csv(\"../input/book-recommendation-dataset/Users.csv\")\n",
    "print(df_user.shape)\n",
    "df_user.head(2)"
   ]
  },
  {
   "cell_type": "code",
   "execution_count": 249,
   "id": "92a9e292",
   "metadata": {
    "execution": {
     "iopub.execute_input": "2022-09-07T12:55:04.165219Z",
     "iopub.status.busy": "2022-09-07T12:55:04.164810Z",
     "iopub.status.idle": "2022-09-07T12:55:04.176693Z",
     "shell.execute_reply": "2022-09-07T12:55:04.175278Z"
    },
    "papermill": {
     "duration": 0.031443,
     "end_time": "2022-09-07T12:55:04.180084",
     "exception": false,
     "start_time": "2022-09-07T12:55:04.148641",
     "status": "completed"
    },
    "tags": []
   },
   "outputs": [
    {
     "name": "stdout",
     "output_type": "stream",
     "text": [
      "Index(['user_id', 'location', 'age'], dtype='object')\n",
      "Index(['user_id', 'isbn', 'book_rating'], dtype='object')\n",
      "Index(['isbn', 'book_title', 'book_author', 'year_of_publication', 'publisher',\n",
      "       'image_url_s', 'image_url_m', 'image_url_l'],\n",
      "      dtype='object')\n"
     ]
    }
   ],
   "source": [
    "df_user.columns = df_user.columns.str.lower().str.strip().str.replace(\"-\", \"_\")\n",
    "df_book.columns = df_book.columns.str.lower().str.strip().str.replace(\"-\", \"_\")\n",
    "df_rating.columns = df_rating.columns.str.lower().str.strip().str.replace(\"-\", \"_\")\n",
    "print(df_user.columns)\n",
    "print(df_rating.columns)\n",
    "print(df_book.columns)"
   ]
  },
  {
   "cell_type": "code",
   "execution_count": 250,
   "id": "0434e6ed",
   "metadata": {
    "execution": {
     "iopub.execute_input": "2022-09-07T12:55:04.211028Z",
     "iopub.status.busy": "2022-09-07T12:55:04.210371Z",
     "iopub.status.idle": "2022-09-07T12:55:04.259075Z",
     "shell.execute_reply": "2022-09-07T12:55:04.257097Z"
    },
    "papermill": {
     "duration": 0.066694,
     "end_time": "2022-09-07T12:55:04.262055",
     "exception": false,
     "start_time": "2022-09-07T12:55:04.195361",
     "status": "completed"
    },
    "tags": []
   },
   "outputs": [
    {
     "name": "stdout",
     "output_type": "stream",
     "text": [
      "<class 'pandas.core.frame.DataFrame'>\n",
      "RangeIndex: 278858 entries, 0 to 278857\n",
      "Data columns (total 3 columns):\n",
      " #   Column    Non-Null Count   Dtype  \n",
      "---  ------    --------------   -----  \n",
      " 0   user_id   278858 non-null  int64  \n",
      " 1   location  278858 non-null  object \n",
      " 2   age       168096 non-null  float64\n",
      "dtypes: float64(1), int64(1), object(1)\n",
      "memory usage: 6.4+ MB\n"
     ]
    }
   ],
   "source": [
    "df_user.info()"
   ]
  },
  {
   "cell_type": "code",
   "execution_count": 251,
   "id": "d40b2531",
   "metadata": {
    "execution": {
     "iopub.execute_input": "2022-09-07T12:55:04.292737Z",
     "iopub.status.busy": "2022-09-07T12:55:04.291744Z",
     "iopub.status.idle": "2022-09-07T12:55:04.405123Z",
     "shell.execute_reply": "2022-09-07T12:55:04.403012Z"
    },
    "papermill": {
     "duration": 0.132874,
     "end_time": "2022-09-07T12:55:04.408532",
     "exception": false,
     "start_time": "2022-09-07T12:55:04.275658",
     "status": "completed"
    },
    "tags": []
   },
   "outputs": [
    {
     "name": "stdout",
     "output_type": "stream",
     "text": [
      "0\n",
      "110762\n"
     ]
    }
   ],
   "source": [
    "print(df_user.duplicated().sum())\n",
    "print(df_user[\"age\"].isnull().sum())"
   ]
  },
  {
   "cell_type": "code",
   "execution_count": 252,
   "id": "fcb8a376",
   "metadata": {
    "execution": {
     "iopub.execute_input": "2022-09-07T12:55:04.438205Z",
     "iopub.status.busy": "2022-09-07T12:55:04.436742Z",
     "iopub.status.idle": "2022-09-07T12:55:04.903238Z",
     "shell.execute_reply": "2022-09-07T12:55:04.901799Z"
    },
    "papermill": {
     "duration": 0.484291,
     "end_time": "2022-09-07T12:55:04.906118",
     "exception": false,
     "start_time": "2022-09-07T12:55:04.421827",
     "status": "completed"
    },
    "tags": []
   },
   "outputs": [
    {
     "data": {
      "image/png": "[encoded data removed]",
      "text/plain": [
       "<Figure size 432x288 with 1 Axes>"
      ]
     },
     "metadata": {
      "needs_background": "light"
     },
     "output_type": "display_data"
    }
   ],
   "source": [
    "plt.hist(df_user.age, bins=100)"
   ]
  },
  {
   "cell_type": "code",
   "execution_count": 253,
   "id": "2553b516",
   "metadata": {
    "execution": {
     "iopub.execute_input": "2022-09-07T12:55:04.936213Z",
     "iopub.status.busy": "2022-09-07T12:55:04.935662Z",
     "iopub.status.idle": "2022-09-07T12:55:04.993943Z",
     "shell.execute_reply": "2022-09-07T12:55:04.992992Z"
    },
    "papermill": {
     "duration": 0.076441,
     "end_time": "2022-09-07T12:55:04.996460",
     "exception": false,
     "start_time": "2022-09-07T12:55:04.920019",
     "status": "completed"
    },
    "tags": []
   },
   "outputs": [
    {
     "data": {
      "text/plain": [
       "count    168096.000000\n",
       "mean         34.751434\n",
       "std          14.428097\n",
       "min           0.000000\n",
       "25%          24.000000\n",
       "50%          32.000000\n",
       "75%          44.000000\n",
       "max         244.000000\n",
       "Name: age, dtype: float64"
      ]
     },
     "execution_count": 253,
     "metadata": {},
     "output_type": "execute_result"
    }
   ],
   "source": [
    "df_user.describe()[\"age\"]"
   ]
  },
  {
   "cell_type": "code",
   "execution_count": 254,
   "id": "6e20d872",
   "metadata": {
    "execution": {
     "iopub.execute_input": "2022-09-07T12:55:05.027607Z",
     "iopub.status.busy": "2022-09-07T12:55:05.027109Z",
     "iopub.status.idle": "2022-09-07T12:55:05.035420Z",
     "shell.execute_reply": "2022-09-07T12:55:05.034427Z"
    },
    "papermill": {
     "duration": 0.027031,
     "end_time": "2022-09-07T12:55:05.038259",
     "exception": false,
     "start_time": "2022-09-07T12:55:05.011228",
     "status": "completed"
    },
    "tags": []
   },
   "outputs": [
    {
     "name": "stdout",
     "output_type": "stream",
     "text": [
      "34.75143370454978\n"
     ]
    }
   ],
   "source": [
    "df_userdp = df_user.copy()\n",
    "\n",
    "age_mean = df_user[\"age\"].mean()\n",
    "print(age_mean)\n",
    "\n",
    "df_userdp[\"age\"] = df_userdp[\"age\"].replace(np.nan, age_mean)"
   ]
  },
  {
   "cell_type": "code",
   "execution_count": 255,
   "id": "4dd0fe69",
   "metadata": {
    "execution": {
     "iopub.execute_input": "2022-09-07T12:55:05.117101Z",
     "iopub.status.busy": "2022-09-07T12:55:05.116305Z",
     "iopub.status.idle": "2022-09-07T12:55:05.130211Z",
     "shell.execute_reply": "2022-09-07T12:55:05.128860Z"
    },
    "papermill": {
     "duration": 0.032738,
     "end_time": "2022-09-07T12:55:05.133250",
     "exception": false,
     "start_time": "2022-09-07T12:55:05.100512",
     "status": "completed"
    },
    "tags": []
   },
   "outputs": [],
   "source": [
    "out_index = df_userdp[(df_userdp[\"age\"] < 14) | (df_userdp[\"age\"] > 100)].index\n",
    "\n",
    "df_userdp.loc[out_index, \"age\"] = age_mean"
   ]
  },
  {
   "cell_type": "code",
   "execution_count": 256,
   "id": "d0246815",
   "metadata": {
    "execution": {
     "iopub.execute_input": "2022-09-07T12:55:05.163045Z",
     "iopub.status.busy": "2022-09-07T12:55:05.162578Z",
     "iopub.status.idle": "2022-09-07T12:55:05.201467Z",
     "shell.execute_reply": "2022-09-07T12:55:05.200162Z"
    },
    "papermill": {
     "duration": 0.056926,
     "end_time": "2022-09-07T12:55:05.203948",
     "exception": false,
     "start_time": "2022-09-07T12:55:05.147022",
     "status": "completed"
    },
    "tags": []
   },
   "outputs": [
    {
     "data": {
      "text/plain": [
       "count    278858.000000\n",
       "mean         34.869245\n",
       "std          10.411870\n",
       "min          14.000000\n",
       "25%          30.000000\n",
       "50%          34.751434\n",
       "75%          35.000000\n",
       "max         100.000000\n",
       "Name: age, dtype: float64"
      ]
     },
     "execution_count": 256,
     "metadata": {},
     "output_type": "execute_result"
    }
   ],
   "source": [
    "df_userdp.describe()[\"age\"]"
   ]
  },
  {
   "cell_type": "code",
   "execution_count": 257,
   "id": "ee1477c7",
   "metadata": {
    "execution": {
     "iopub.execute_input": "2022-09-07T12:55:05.234807Z",
     "iopub.status.busy": "2022-09-07T12:55:05.234076Z",
     "iopub.status.idle": "2022-09-07T12:55:05.417443Z",
     "shell.execute_reply": "2022-09-07T12:55:05.415169Z"
    },
    "papermill": {
     "duration": 0.20243,
     "end_time": "2022-09-07T12:55:05.420550",
     "exception": false,
     "start_time": "2022-09-07T12:55:05.218120",
     "status": "completed"
    },
    "tags": []
   },
   "outputs": [
    {
     "name": "stdout",
     "output_type": "stream",
     "text": [
      "user_id        0\n",
      "isbn           0\n",
      "book_rating    0\n",
      "dtype: int64\n",
      "isbn                   0\n",
      "book_title             0\n",
      "book_author            1\n",
      "year_of_publication    0\n",
      "publisher              2\n",
      "image_url_s            0\n",
      "image_url_m            0\n",
      "image_url_l            3\n",
      "dtype: int64\n"
     ]
    }
   ],
   "source": [
    "print(df_rating.isnull().sum())\n",
    "print(df_book.isnull().sum())"
   ]
  },
  {
   "cell_type": "code",
   "execution_count": 258,
   "id": "5033cce1",
   "metadata": {
    "execution": {
     "iopub.execute_input": "2022-09-07T12:55:05.450966Z",
     "iopub.status.busy": "2022-09-07T12:55:05.450507Z",
     "iopub.status.idle": "2022-09-07T12:55:05.513145Z",
     "shell.execute_reply": "2022-09-07T12:55:05.511179Z"
    },
    "papermill": {
     "duration": 0.081178,
     "end_time": "2022-09-07T12:55:05.515927",
     "exception": false,
     "start_time": "2022-09-07T12:55:05.434749",
     "status": "completed"
    },
    "tags": []
   },
   "outputs": [
    {
     "name": "stdout",
     "output_type": "stream",
     "text": [
      "57339\n"
     ]
    }
   ],
   "source": [
    "print(len(df_user[\"location\"].unique()))\n",
    "\n",
    "loc = df_user[\"location\"].values"
   ]
  },
  {
   "cell_type": "code",
   "execution_count": 259,
   "id": "34e40803",
   "metadata": {
    "execution": {
     "iopub.execute_input": "2022-09-07T12:55:05.546005Z",
     "iopub.status.busy": "2022-09-07T12:55:05.545529Z",
     "iopub.status.idle": "2022-09-07T12:55:05.719489Z",
     "shell.execute_reply": "2022-09-07T12:55:05.717716Z"
    },
    "papermill": {
     "duration": 0.192582,
     "end_time": "2022-09-07T12:55:05.722520",
     "exception": false,
     "start_time": "2022-09-07T12:55:05.529938",
     "status": "completed"
    },
    "tags": []
   },
   "outputs": [
    {
     "name": "stdout",
     "output_type": "stream",
     "text": [
      "278858\n"
     ]
    },
    {
     "data": {
      "text/plain": [
       "['usa', 'usa', 'russia', 'portugal', 'kingdom']"
      ]
     },
     "execution_count": 259,
     "metadata": {},
     "output_type": "execute_result"
    }
   ],
   "source": [
    "country = []\n",
    "for i in loc:\n",
    "    country.append(i.split()[-1])\n",
    "print(len(country))\n",
    "country[:5]"
   ]
  },
  {
   "cell_type": "code",
   "execution_count": 260,
   "id": "96bf3483",
   "metadata": {
    "execution": {
     "iopub.execute_input": "2022-09-07T12:55:05.754078Z",
     "iopub.status.busy": "2022-09-07T12:55:05.753630Z",
     "iopub.status.idle": "2022-09-07T12:55:05.788930Z",
     "shell.execute_reply": "2022-09-07T12:55:05.787519Z"
    },
    "papermill": {
     "duration": 0.054334,
     "end_time": "2022-09-07T12:55:05.791790",
     "exception": false,
     "start_time": "2022-09-07T12:55:05.737456",
     "status": "completed"
    },
    "tags": []
   },
   "outputs": [
    {
     "data": {
      "text/html": [
       "<div>\n",
       "<style scoped>\n",
       "    .dataframe tbody tr th:only-of-type {\n",
       "        vertical-align: middle;\n",
       "    }\n",
       "\n",
       "    .dataframe tbody tr th {\n",
       "        vertical-align: top;\n",
       "    }\n",
       "\n",
       "    .dataframe thead th {\n",
       "        text-align: right;\n",
       "    }\n",
       "</style>\n",
       "<table border=\"1\" class=\"dataframe\">\n",
       "  <thead>\n",
       "    <tr style=\"text-align: right;\">\n",
       "      <th></th>\n",
       "      <th>user_id</th>\n",
       "      <th>location</th>\n",
       "      <th>age</th>\n",
       "      <th>country</th>\n",
       "    </tr>\n",
       "  </thead>\n",
       "  <tbody>\n",
       "    <tr>\n",
       "      <th>0</th>\n",
       "      <td>1</td>\n",
       "      <td>nyc, new york, usa</td>\n",
       "      <td>34.751434</td>\n",
       "      <td>usa</td>\n",
       "    </tr>\n",
       "    <tr>\n",
       "      <th>1</th>\n",
       "      <td>2</td>\n",
       "      <td>stockton, california, usa</td>\n",
       "      <td>18.000000</td>\n",
       "      <td>usa</td>\n",
       "    </tr>\n",
       "    <tr>\n",
       "      <th>2</th>\n",
       "      <td>3</td>\n",
       "      <td>moscow, yukon territory, russia</td>\n",
       "      <td>34.751434</td>\n",
       "      <td>russia</td>\n",
       "    </tr>\n",
       "    <tr>\n",
       "      <th>3</th>\n",
       "      <td>4</td>\n",
       "      <td>porto, v.n.gaia, portugal</td>\n",
       "      <td>17.000000</td>\n",
       "      <td>portugal</td>\n",
       "    </tr>\n",
       "    <tr>\n",
       "      <th>4</th>\n",
       "      <td>5</td>\n",
       "      <td>farnborough, hants, united kingdom</td>\n",
       "      <td>34.751434</td>\n",
       "      <td>kingdom</td>\n",
       "    </tr>\n",
       "  </tbody>\n",
       "</table>\n",
       "</div>"
      ],
      "text/plain": [
       "   user_id                            location        age   country\n",
       "0        1                  nyc, new york, usa  34.751434       usa\n",
       "1        2           stockton, california, usa  18.000000       usa\n",
       "2        3     moscow, yukon territory, russia  34.751434    russia\n",
       "3        4           porto, v.n.gaia, portugal  17.000000  portugal\n",
       "4        5  farnborough, hants, united kingdom  34.751434   kingdom"
      ]
     },
     "execution_count": 260,
     "metadata": {},
     "output_type": "execute_result"
    }
   ],
   "source": [
    "df_userdp[\"country\"] = country\n",
    "df_userdp.head()"
   ]
  },
  {
   "cell_type": "code",
   "execution_count": 261,
   "id": "33ad3dbf",
   "metadata": {
    "execution": {
     "iopub.execute_input": "2022-09-07T12:55:05.824478Z",
     "iopub.status.busy": "2022-09-07T12:55:05.824023Z",
     "iopub.status.idle": "2022-09-07T12:55:05.888042Z",
     "shell.execute_reply": "2022-09-07T12:55:05.886410Z"
    },
    "papermill": {
     "duration": 0.083763,
     "end_time": "2022-09-07T12:55:05.891018",
     "exception": false,
     "start_time": "2022-09-07T12:55:05.807255",
     "status": "completed"
    },
    "tags": []
   },
   "outputs": [
    {
     "data": {
      "text/html": [
       "<div>\n",
       "<style scoped>\n",
       "    .dataframe tbody tr th:only-of-type {\n",
       "        vertical-align: middle;\n",
       "    }\n",
       "\n",
       "    .dataframe tbody tr th {\n",
       "        vertical-align: top;\n",
       "    }\n",
       "\n",
       "    .dataframe thead th {\n",
       "        text-align: right;\n",
       "    }\n",
       "</style>\n",
       "<table border=\"1\" class=\"dataframe\">\n",
       "  <thead>\n",
       "    <tr style=\"text-align: right;\">\n",
       "      <th></th>\n",
       "      <th>user_id</th>\n",
       "      <th>location</th>\n",
       "      <th>age</th>\n",
       "      <th>country</th>\n",
       "    </tr>\n",
       "  </thead>\n",
       "  <tbody>\n",
       "    <tr>\n",
       "      <th>0</th>\n",
       "      <td>1</td>\n",
       "      <td>nyc, new york, usa</td>\n",
       "      <td>34.751434</td>\n",
       "      <td>usa</td>\n",
       "    </tr>\n",
       "    <tr>\n",
       "      <th>1</th>\n",
       "      <td>2</td>\n",
       "      <td>stockton, california, usa</td>\n",
       "      <td>18.000000</td>\n",
       "      <td>usa</td>\n",
       "    </tr>\n",
       "    <tr>\n",
       "      <th>2</th>\n",
       "      <td>3</td>\n",
       "      <td>moscow, yukon territory, russia</td>\n",
       "      <td>34.751434</td>\n",
       "      <td>russia</td>\n",
       "    </tr>\n",
       "    <tr>\n",
       "      <th>3</th>\n",
       "      <td>4</td>\n",
       "      <td>porto, v.n.gaia, portugal</td>\n",
       "      <td>17.000000</td>\n",
       "      <td>portugal</td>\n",
       "    </tr>\n",
       "    <tr>\n",
       "      <th>4</th>\n",
       "      <td>5</td>\n",
       "      <td>farnborough, hants, united kingdom</td>\n",
       "      <td>34.751434</td>\n",
       "      <td>uk</td>\n",
       "    </tr>\n",
       "  </tbody>\n",
       "</table>\n",
       "</div>"
      ],
      "text/plain": [
       "   user_id                            location        age   country\n",
       "0        1                  nyc, new york, usa  34.751434       usa\n",
       "1        2           stockton, california, usa  18.000000       usa\n",
       "2        3     moscow, yukon territory, russia  34.751434    russia\n",
       "3        4           porto, v.n.gaia, portugal  17.000000  portugal\n",
       "4        5  farnborough, hants, united kingdom  34.751434        uk"
      ]
     },
     "execution_count": 261,
     "metadata": {},
     "output_type": "execute_result"
    }
   ],
   "source": [
    "df_userco = df_userdp.copy()\n",
    "\n",
    "df_userco[\"country\"] = df_userco[\"country\"].replace(\"kingdom\", \"uk\")\n",
    "df_userco.head()"
   ]
  },
  {
   "cell_type": "code",
   "execution_count": 262,
   "id": "83992b70",
   "metadata": {
    "execution": {
     "iopub.execute_input": "2022-09-07T12:55:05.924141Z",
     "iopub.status.busy": "2022-09-07T12:55:05.923390Z",
     "iopub.status.idle": "2022-09-07T12:55:05.934418Z",
     "shell.execute_reply": "2022-09-07T12:55:05.932870Z"
    },
    "papermill": {
     "duration": 0.03022,
     "end_time": "2022-09-07T12:55:05.936773",
     "exception": false,
     "start_time": "2022-09-07T12:55:05.906553",
     "status": "completed"
    },
    "tags": []
   },
   "outputs": [
    {
     "data": {
      "text/plain": [
       "user_id      int64\n",
       "location    object\n",
       "age          int32\n",
       "country     object\n",
       "dtype: object"
      ]
     },
     "execution_count": 262,
     "metadata": {},
     "output_type": "execute_result"
    }
   ],
   "source": [
    "df_userco[\"age\"] = df_userco[\"age\"].astype(\"int32\")\n",
    "\n",
    "df_userco.dtypes"
   ]
  },
  {
   "cell_type": "code",
   "execution_count": 263,
   "id": "3c00f356",
   "metadata": {
    "execution": {
     "iopub.execute_input": "2022-09-07T12:55:05.969800Z",
     "iopub.status.busy": "2022-09-07T12:55:05.969288Z",
     "iopub.status.idle": "2022-09-07T12:55:06.010368Z",
     "shell.execute_reply": "2022-09-07T12:55:06.008723Z"
    },
    "papermill": {
     "duration": 0.061206,
     "end_time": "2022-09-07T12:55:06.013273",
     "exception": false,
     "start_time": "2022-09-07T12:55:05.952067",
     "status": "completed"
    },
    "tags": []
   },
   "outputs": [
    {
     "name": "stdout",
     "output_type": "stream",
     "text": [
      "1065\n"
     ]
    }
   ],
   "source": [
    "df_userfin = df_userco.drop([\"location\"], axis=1)\n",
    "df_userfin.head()\n",
    "\n",
    "print(len(df_userfin.country.unique()))"
   ]
  },
  {
   "cell_type": "code",
   "execution_count": 264,
   "id": "13aba8a0",
   "metadata": {
    "execution": {
     "iopub.execute_input": "2022-09-07T12:55:06.045710Z",
     "iopub.status.busy": "2022-09-07T12:55:06.045292Z",
     "iopub.status.idle": "2022-09-07T12:55:06.083848Z",
     "shell.execute_reply": "2022-09-07T12:55:06.082564Z"
    },
    "papermill": {
     "duration": 0.057125,
     "end_time": "2022-09-07T12:55:06.086251",
     "exception": false,
     "start_time": "2022-09-07T12:55:06.029126",
     "status": "completed"
    },
    "tags": []
   },
   "outputs": [
    {
     "data": {
      "text/plain": [
       "honduras          27\n",
       "kenya             27\n",
       "antarctica        27\n",
       "lombardia,        26\n",
       "bermuda           26\n",
       "massachusetts,    26\n",
       "salvador          26\n",
       "netherlands\"      26\n",
       "oman              26\n",
       "florida,          25\n",
       "uzbekistan        24\n",
       "zimbabwe          24\n",
       "washington,       24\n",
       "islands           23\n",
       "belize            23\n",
       "zealand\"          23\n",
       "ohio,             23\n",
       "oregon,           22\n",
       "estonia           22\n",
       "jordan            22\n",
       "rico              21\n",
       "nepal             21\n",
       "uruguay           20\n",
       "missouri,         20\n",
       "mauritius         20\n",
       "finland\"          20\n",
       "michigan,         19\n",
       "qatar             19\n",
       "grenada           19\n",
       "u.a.e             19\n",
       "Name: country, dtype: int64"
      ]
     },
     "execution_count": 264,
     "metadata": {},
     "output_type": "execute_result"
    }
   ],
   "source": [
    "df_userfin[\"country\"].value_counts()[110:140]"
   ]
  },
  {
   "cell_type": "code",
   "execution_count": 265,
   "id": "45de9ccc",
   "metadata": {
    "execution": {
     "iopub.execute_input": "2022-09-07T12:55:06.118153Z",
     "iopub.status.busy": "2022-09-07T12:55:06.117761Z",
     "iopub.status.idle": "2022-09-07T12:55:06.180618Z",
     "shell.execute_reply": "2022-09-07T12:55:06.178879Z"
    },
    "papermill": {
     "duration": 0.082295,
     "end_time": "2022-09-07T12:55:06.183305",
     "exception": false,
     "start_time": "2022-09-07T12:55:06.101010",
     "status": "completed"
    },
    "tags": []
   },
   "outputs": [
    {
     "data": {
      "text/plain": [
       "count     278858\n",
       "unique      1064\n",
       "top          usa\n",
       "freq      142602\n",
       "Name: country, dtype: object"
      ]
     },
     "execution_count": 265,
     "metadata": {},
     "output_type": "execute_result"
    }
   ],
   "source": [
    "df_userfin[\"country\"] = df_userfin[\"country\"].replace(\",\", \"usa\")\n",
    "\n",
    "df_userfin[\"country\"].describe()"
   ]
  },
  {
   "cell_type": "code",
   "execution_count": 266,
   "id": "516e8fb4",
   "metadata": {
    "execution": {
     "iopub.execute_input": "2022-09-07T12:55:06.215137Z",
     "iopub.status.busy": "2022-09-07T12:55:06.214754Z",
     "iopub.status.idle": "2022-09-07T12:55:06.222936Z",
     "shell.execute_reply": "2022-09-07T12:55:06.221688Z"
    },
    "papermill": {
     "duration": 0.026738,
     "end_time": "2022-09-07T12:55:06.225225",
     "exception": false,
     "start_time": "2022-09-07T12:55:06.198487",
     "status": "completed"
    },
    "tags": []
   },
   "outputs": [
    {
     "data": {
      "text/plain": [
       "array(['usa', 'usa', 'russia', 'portugal', 'uk'], dtype=object)"
      ]
     },
     "execution_count": 266,
     "metadata": {},
     "output_type": "execute_result"
    }
   ],
   "source": [
    "data = df_userfin[\"country\"].values\n",
    "data[:5]"
   ]
  },
  {
   "cell_type": "code",
   "execution_count": 267,
   "id": "4971ce59",
   "metadata": {
    "execution": {
     "iopub.execute_input": "2022-09-07T12:55:06.257212Z",
     "iopub.status.busy": "2022-09-07T12:55:06.256710Z",
     "iopub.status.idle": "2022-09-07T12:55:06.462541Z",
     "shell.execute_reply": "2022-09-07T12:55:06.461607Z"
    },
    "papermill": {
     "duration": 0.225664,
     "end_time": "2022-09-07T12:55:06.465880",
     "exception": false,
     "start_time": "2022-09-07T12:55:06.240216",
     "status": "completed"
    },
    "tags": []
   },
   "outputs": [],
   "source": [
    "for i, x in enumerate(data):\n",
    "    if \",\" in x:\n",
    "        data[i] = x[:-1]\n",
    "for j, y in enumerate(data):\n",
    "    if \",\" in y:\n",
    "        data[j] = \"usa\"\n",
    "for i, x in enumerate(data):\n",
    "    if '\"' in x:\n",
    "        data[i] = x[:-1]\n",
    "for i, x in enumerate(data):\n",
    "    if (\",\" in x) | ('\"' in x):\n",
    "        data[i] = \"usa\""
   ]
  },
  {
   "cell_type": "code",
   "execution_count": 268,
   "id": "6800307d",
   "metadata": {
    "execution": {
     "iopub.execute_input": "2022-09-07T12:55:06.498881Z",
     "iopub.status.busy": "2022-09-07T12:55:06.498460Z",
     "iopub.status.idle": "2022-09-07T12:55:06.562816Z",
     "shell.execute_reply": "2022-09-07T12:55:06.561297Z"
    },
    "papermill": {
     "duration": 0.085508,
     "end_time": "2022-09-07T12:55:06.566989",
     "exception": false,
     "start_time": "2022-09-07T12:55:06.481481",
     "status": "completed"
    },
    "tags": []
   },
   "outputs": [
    {
     "name": "stdout",
     "output_type": "stream",
     "text": [
      "896\n"
     ]
    }
   ],
   "source": [
    "df_userfin[\"set_country\"] = data\n",
    "\n",
    "df_userfin.head()\n",
    "\n",
    "print(len(df_userfin[\"set_country\"].unique()))\n",
    "\n",
    "df_userfin = df_userfin.drop([\"country\"], axis=1)"
   ]
  },
  {
   "cell_type": "code",
   "execution_count": 269,
   "id": "8a2a57e8",
   "metadata": {
    "execution": {
     "iopub.execute_input": "2022-09-07T12:55:06.601517Z",
     "iopub.status.busy": "2022-09-07T12:55:06.600883Z",
     "iopub.status.idle": "2022-09-07T12:55:08.515704Z",
     "shell.execute_reply": "2022-09-07T12:55:08.514467Z"
    },
    "papermill": {
     "duration": 1.934707,
     "end_time": "2022-09-07T12:55:08.518211",
     "exception": false,
     "start_time": "2022-09-07T12:55:06.583504",
     "status": "completed"
    },
    "tags": []
   },
   "outputs": [
    {
     "data": {
      "text/html": [
       "<div>\n",
       "<style scoped>\n",
       "    .dataframe tbody tr th:only-of-type {\n",
       "        vertical-align: middle;\n",
       "    }\n",
       "\n",
       "    .dataframe tbody tr th {\n",
       "        vertical-align: top;\n",
       "    }\n",
       "\n",
       "    .dataframe thead th {\n",
       "        text-align: right;\n",
       "    }\n",
       "</style>\n",
       "<table border=\"1\" class=\"dataframe\">\n",
       "  <thead>\n",
       "    <tr style=\"text-align: right;\">\n",
       "      <th></th>\n",
       "      <th>user_id</th>\n",
       "      <th>isbn</th>\n",
       "      <th>book_rating</th>\n",
       "      <th>age</th>\n",
       "      <th>set_country</th>\n",
       "      <th>book_title</th>\n",
       "      <th>book_author</th>\n",
       "      <th>year_of_publication</th>\n",
       "      <th>publisher</th>\n",
       "      <th>image_url_s</th>\n",
       "      <th>image_url_m</th>\n",
       "      <th>image_url_l</th>\n",
       "    </tr>\n",
       "  </thead>\n",
       "  <tbody>\n",
       "    <tr>\n",
       "      <th>0</th>\n",
       "      <td>276725</td>\n",
       "      <td>034545104X</td>\n",
       "      <td>0</td>\n",
       "      <td>34</td>\n",
       "      <td>usa</td>\n",
       "      <td>Flesh Tones: A Novel</td>\n",
       "      <td>M. J. Rose</td>\n",
       "      <td>2002</td>\n",
       "      <td>Ballantine Books</td>\n",
       "      <td>http://images.amazon.com/images/P/034545104X.0...</td>\n",
       "      <td>http://images.amazon.com/images/P/034545104X.0...</td>\n",
       "      <td>http://images.amazon.com/images/P/034545104X.0...</td>\n",
       "    </tr>\n",
       "    <tr>\n",
       "      <th>1</th>\n",
       "      <td>2313</td>\n",
       "      <td>034545104X</td>\n",
       "      <td>5</td>\n",
       "      <td>23</td>\n",
       "      <td>usa</td>\n",
       "      <td>Flesh Tones: A Novel</td>\n",
       "      <td>M. J. Rose</td>\n",
       "      <td>2002</td>\n",
       "      <td>Ballantine Books</td>\n",
       "      <td>http://images.amazon.com/images/P/034545104X.0...</td>\n",
       "      <td>http://images.amazon.com/images/P/034545104X.0...</td>\n",
       "      <td>http://images.amazon.com/images/P/034545104X.0...</td>\n",
       "    </tr>\n",
       "    <tr>\n",
       "      <th>2</th>\n",
       "      <td>6543</td>\n",
       "      <td>034545104X</td>\n",
       "      <td>0</td>\n",
       "      <td>34</td>\n",
       "      <td>usa</td>\n",
       "      <td>Flesh Tones: A Novel</td>\n",
       "      <td>M. J. Rose</td>\n",
       "      <td>2002</td>\n",
       "      <td>Ballantine Books</td>\n",
       "      <td>http://images.amazon.com/images/P/034545104X.0...</td>\n",
       "      <td>http://images.amazon.com/images/P/034545104X.0...</td>\n",
       "      <td>http://images.amazon.com/images/P/034545104X.0...</td>\n",
       "    </tr>\n",
       "    <tr>\n",
       "      <th>3</th>\n",
       "      <td>8680</td>\n",
       "      <td>034545104X</td>\n",
       "      <td>5</td>\n",
       "      <td>34</td>\n",
       "      <td>usa</td>\n",
       "      <td>Flesh Tones: A Novel</td>\n",
       "      <td>M. J. Rose</td>\n",
       "      <td>2002</td>\n",
       "      <td>Ballantine Books</td>\n",
       "      <td>http://images.amazon.com/images/P/034545104X.0...</td>\n",
       "      <td>http://images.amazon.com/images/P/034545104X.0...</td>\n",
       "      <td>http://images.amazon.com/images/P/034545104X.0...</td>\n",
       "    </tr>\n",
       "    <tr>\n",
       "      <th>4</th>\n",
       "      <td>10314</td>\n",
       "      <td>034545104X</td>\n",
       "      <td>9</td>\n",
       "      <td>34</td>\n",
       "      <td>usa</td>\n",
       "      <td>Flesh Tones: A Novel</td>\n",
       "      <td>M. J. Rose</td>\n",
       "      <td>2002</td>\n",
       "      <td>Ballantine Books</td>\n",
       "      <td>http://images.amazon.com/images/P/034545104X.0...</td>\n",
       "      <td>http://images.amazon.com/images/P/034545104X.0...</td>\n",
       "      <td>http://images.amazon.com/images/P/034545104X.0...</td>\n",
       "    </tr>\n",
       "  </tbody>\n",
       "</table>\n",
       "</div>"
      ],
      "text/plain": [
       "   user_id        isbn  book_rating  age set_country            book_title  \\\n",
       "0   276725  034545104X            0   34         usa  Flesh Tones: A Novel   \n",
       "1     2313  034545104X            5   23         usa  Flesh Tones: A Novel   \n",
       "2     6543  034545104X            0   34         usa  Flesh Tones: A Novel   \n",
       "3     8680  034545104X            5   34         usa  Flesh Tones: A Novel   \n",
       "4    10314  034545104X            9   34         usa  Flesh Tones: A Novel   \n",
       "\n",
       "  book_author year_of_publication         publisher  \\\n",
       "0  M. J. Rose                2002  Ballantine Books   \n",
       "1  M. J. Rose                2002  Ballantine Books   \n",
       "2  M. J. Rose                2002  Ballantine Books   \n",
       "3  M. J. Rose                2002  Ballantine Books   \n",
       "4  M. J. Rose                2002  Ballantine Books   \n",
       "\n",
       "                                         image_url_s  \\\n",
       "0  http://images.amazon.com/images/P/034545104X.0...   \n",
       "1  http://images.amazon.com/images/P/034545104X.0...   \n",
       "2  http://images.amazon.com/images/P/034545104X.0...   \n",
       "3  http://images.amazon.com/images/P/034545104X.0...   \n",
       "4  http://images.amazon.com/images/P/034545104X.0...   \n",
       "\n",
       "                                         image_url_m  \\\n",
       "0  http://images.amazon.com/images/P/034545104X.0...   \n",
       "1  http://images.amazon.com/images/P/034545104X.0...   \n",
       "2  http://images.amazon.com/images/P/034545104X.0...   \n",
       "3  http://images.amazon.com/images/P/034545104X.0...   \n",
       "4  http://images.amazon.com/images/P/034545104X.0...   \n",
       "\n",
       "                                         image_url_l  \n",
       "0  http://images.amazon.com/images/P/034545104X.0...  \n",
       "1  http://images.amazon.com/images/P/034545104X.0...  \n",
       "2  http://images.amazon.com/images/P/034545104X.0...  \n",
       "3  http://images.amazon.com/images/P/034545104X.0...  \n",
       "4  http://images.amazon.com/images/P/034545104X.0...  "
      ]
     },
     "execution_count": 269,
     "metadata": {},
     "output_type": "execute_result"
    }
   ],
   "source": [
    "df_ratus = pd.merge(df_rating, df_userfin)\n",
    "df_all = pd.merge(df_ratus, df_book)\n",
    "df_all.head()"
   ]
  },
  {
   "cell_type": "code",
   "execution_count": 270,
   "id": "6e716952",
   "metadata": {
    "execution": {
     "iopub.execute_input": "2022-09-07T12:55:08.552467Z",
     "iopub.status.busy": "2022-09-07T12:55:08.551846Z",
     "iopub.status.idle": "2022-09-07T12:55:08.689139Z",
     "shell.execute_reply": "2022-09-07T12:55:08.687846Z"
    },
    "papermill": {
     "duration": 0.157784,
     "end_time": "2022-09-07T12:55:08.691962",
     "exception": false,
     "start_time": "2022-09-07T12:55:08.534178",
     "status": "completed"
    },
    "tags": []
   },
   "outputs": [],
   "source": [
    "df_all = df_all.iloc[:, :-3]"
   ]
  },
  {
   "cell_type": "code",
   "execution_count": 271,
   "id": "706e7a0d",
   "metadata": {
    "execution": {
     "iopub.execute_input": "2022-09-07T12:55:08.726094Z",
     "iopub.status.busy": "2022-09-07T12:55:08.725428Z",
     "iopub.status.idle": "2022-09-07T12:55:08.739481Z",
     "shell.execute_reply": "2022-09-07T12:55:08.738376Z"
    },
    "papermill": {
     "duration": 0.0344,
     "end_time": "2022-09-07T12:55:08.742279",
     "exception": false,
     "start_time": "2022-09-07T12:55:08.707879",
     "status": "completed"
    },
    "tags": []
   },
   "outputs": [
    {
     "data": {
      "text/html": [
       "<div>\n",
       "<style scoped>\n",
       "    .dataframe tbody tr th:only-of-type {\n",
       "        vertical-align: middle;\n",
       "    }\n",
       "\n",
       "    .dataframe tbody tr th {\n",
       "        vertical-align: top;\n",
       "    }\n",
       "\n",
       "    .dataframe thead th {\n",
       "        text-align: right;\n",
       "    }\n",
       "</style>\n",
       "<table border=\"1\" class=\"dataframe\">\n",
       "  <thead>\n",
       "    <tr style=\"text-align: right;\">\n",
       "      <th></th>\n",
       "      <th>user_id</th>\n",
       "      <th>isbn</th>\n",
       "      <th>book_rating</th>\n",
       "      <th>age</th>\n",
       "      <th>set_country</th>\n",
       "      <th>book_title</th>\n",
       "      <th>book_author</th>\n",
       "      <th>year_of_publication</th>\n",
       "      <th>publisher</th>\n",
       "    </tr>\n",
       "  </thead>\n",
       "  <tbody>\n",
       "    <tr>\n",
       "      <th>0</th>\n",
       "      <td>276725</td>\n",
       "      <td>034545104X</td>\n",
       "      <td>0</td>\n",
       "      <td>34</td>\n",
       "      <td>usa</td>\n",
       "      <td>Flesh Tones: A Novel</td>\n",
       "      <td>M. J. Rose</td>\n",
       "      <td>2002</td>\n",
       "      <td>Ballantine Books</td>\n",
       "    </tr>\n",
       "    <tr>\n",
       "      <th>1</th>\n",
       "      <td>2313</td>\n",
       "      <td>034545104X</td>\n",
       "      <td>5</td>\n",
       "      <td>23</td>\n",
       "      <td>usa</td>\n",
       "      <td>Flesh Tones: A Novel</td>\n",
       "      <td>M. J. Rose</td>\n",
       "      <td>2002</td>\n",
       "      <td>Ballantine Books</td>\n",
       "    </tr>\n",
       "    <tr>\n",
       "      <th>2</th>\n",
       "      <td>6543</td>\n",
       "      <td>034545104X</td>\n",
       "      <td>0</td>\n",
       "      <td>34</td>\n",
       "      <td>usa</td>\n",
       "      <td>Flesh Tones: A Novel</td>\n",
       "      <td>M. J. Rose</td>\n",
       "      <td>2002</td>\n",
       "      <td>Ballantine Books</td>\n",
       "    </tr>\n",
       "    <tr>\n",
       "      <th>3</th>\n",
       "      <td>8680</td>\n",
       "      <td>034545104X</td>\n",
       "      <td>5</td>\n",
       "      <td>34</td>\n",
       "      <td>usa</td>\n",
       "      <td>Flesh Tones: A Novel</td>\n",
       "      <td>M. J. Rose</td>\n",
       "      <td>2002</td>\n",
       "      <td>Ballantine Books</td>\n",
       "    </tr>\n",
       "    <tr>\n",
       "      <th>4</th>\n",
       "      <td>10314</td>\n",
       "      <td>034545104X</td>\n",
       "      <td>9</td>\n",
       "      <td>34</td>\n",
       "      <td>usa</td>\n",
       "      <td>Flesh Tones: A Novel</td>\n",
       "      <td>M. J. Rose</td>\n",
       "      <td>2002</td>\n",
       "      <td>Ballantine Books</td>\n",
       "    </tr>\n",
       "  </tbody>\n",
       "</table>\n",
       "</div>"
      ],
      "text/plain": [
       "   user_id        isbn  book_rating  age set_country            book_title  \\\n",
       "0   276725  034545104X            0   34         usa  Flesh Tones: A Novel   \n",
       "1     2313  034545104X            5   23         usa  Flesh Tones: A Novel   \n",
       "2     6543  034545104X            0   34         usa  Flesh Tones: A Novel   \n",
       "3     8680  034545104X            5   34         usa  Flesh Tones: A Novel   \n",
       "4    10314  034545104X            9   34         usa  Flesh Tones: A Novel   \n",
       "\n",
       "  book_author year_of_publication         publisher  \n",
       "0  M. J. Rose                2002  Ballantine Books  \n",
       "1  M. J. Rose                2002  Ballantine Books  \n",
       "2  M. J. Rose                2002  Ballantine Books  \n",
       "3  M. J. Rose                2002  Ballantine Books  \n",
       "4  M. J. Rose                2002  Ballantine Books  "
      ]
     },
     "execution_count": 271,
     "metadata": {},
     "output_type": "execute_result"
    }
   ],
   "source": [
    "df_all.head()"
   ]
  },
  {
   "cell_type": "code",
   "execution_count": 272,
   "id": "4b9e13ce",
   "metadata": {
    "execution": {
     "iopub.execute_input": "2022-09-07T12:55:08.776157Z",
     "iopub.status.busy": "2022-09-07T12:55:08.775413Z",
     "iopub.status.idle": "2022-09-07T12:55:09.216927Z",
     "shell.execute_reply": "2022-09-07T12:55:09.215439Z"
    },
    "papermill": {
     "duration": 0.461277,
     "end_time": "2022-09-07T12:55:09.219623",
     "exception": false,
     "start_time": "2022-09-07T12:55:08.758346",
     "status": "completed"
    },
    "tags": []
   },
   "outputs": [
    {
     "data": {
      "text/html": [
       "<div>\n",
       "<style scoped>\n",
       "    .dataframe tbody tr th:only-of-type {\n",
       "        vertical-align: middle;\n",
       "    }\n",
       "\n",
       "    .dataframe tbody tr th {\n",
       "        vertical-align: top;\n",
       "    }\n",
       "\n",
       "    .dataframe thead th {\n",
       "        text-align: right;\n",
       "    }\n",
       "</style>\n",
       "<table border=\"1\" class=\"dataframe\">\n",
       "  <thead>\n",
       "    <tr style=\"text-align: right;\">\n",
       "      <th></th>\n",
       "      <th>user_id</th>\n",
       "      <th>isbn</th>\n",
       "      <th>book_rating</th>\n",
       "      <th>age</th>\n",
       "      <th>set_country</th>\n",
       "      <th>book_title</th>\n",
       "      <th>book_author</th>\n",
       "      <th>year_of_publication</th>\n",
       "      <th>publisher</th>\n",
       "    </tr>\n",
       "  </thead>\n",
       "  <tbody>\n",
       "    <tr>\n",
       "      <th>195707</th>\n",
       "      <td>59172</td>\n",
       "      <td>0446364762</td>\n",
       "      <td>10</td>\n",
       "      <td>36</td>\n",
       "      <td>canada</td>\n",
       "      <td>The Stars Shine Down</td>\n",
       "      <td>Sidney Sheldon</td>\n",
       "      <td>1993</td>\n",
       "      <td>Warner Books</td>\n",
       "    </tr>\n",
       "    <tr>\n",
       "      <th>316032</th>\n",
       "      <td>183883</td>\n",
       "      <td>0440180295</td>\n",
       "      <td>10</td>\n",
       "      <td>35</td>\n",
       "      <td>usa</td>\n",
       "      <td>Slaughterhouse Five or the Children's Crusade:...</td>\n",
       "      <td>Kurt Vonnegut</td>\n",
       "      <td>1991</td>\n",
       "      <td>Laurel</td>\n",
       "    </tr>\n",
       "    <tr>\n",
       "      <th>728400</th>\n",
       "      <td>131317</td>\n",
       "      <td>1565048709</td>\n",
       "      <td>10</td>\n",
       "      <td>34</td>\n",
       "      <td>usa</td>\n",
       "      <td>Zod Wallop</td>\n",
       "      <td>William Browning Spencer</td>\n",
       "      <td>1997</td>\n",
       "      <td>White Wolf Pub</td>\n",
       "    </tr>\n",
       "    <tr>\n",
       "      <th>316075</th>\n",
       "      <td>252222</td>\n",
       "      <td>0440180295</td>\n",
       "      <td>10</td>\n",
       "      <td>21</td>\n",
       "      <td>canada</td>\n",
       "      <td>Slaughterhouse Five or the Children's Crusade:...</td>\n",
       "      <td>Kurt Vonnegut</td>\n",
       "      <td>1991</td>\n",
       "      <td>Laurel</td>\n",
       "    </tr>\n",
       "    <tr>\n",
       "      <th>491302</th>\n",
       "      <td>11676</td>\n",
       "      <td>0786926813</td>\n",
       "      <td>10</td>\n",
       "      <td>34</td>\n",
       "      <td>n/a</td>\n",
       "      <td>Dragonlance Chronicles Trilogy Gift Set</td>\n",
       "      <td>Margaret Weis</td>\n",
       "      <td>2001</td>\n",
       "      <td>Wizards of the Coast</td>\n",
       "    </tr>\n",
       "  </tbody>\n",
       "</table>\n",
       "</div>"
      ],
      "text/plain": [
       "        user_id        isbn  book_rating  age set_country  \\\n",
       "195707    59172  0446364762           10   36      canada   \n",
       "316032   183883  0440180295           10   35         usa   \n",
       "728400   131317  1565048709           10   34         usa   \n",
       "316075   252222  0440180295           10   21      canada   \n",
       "491302    11676  0786926813           10   34         n/a   \n",
       "\n",
       "                                               book_title  \\\n",
       "195707                               The Stars Shine Down   \n",
       "316032  Slaughterhouse Five or the Children's Crusade:...   \n",
       "728400                                         Zod Wallop   \n",
       "316075  Slaughterhouse Five or the Children's Crusade:...   \n",
       "491302            Dragonlance Chronicles Trilogy Gift Set   \n",
       "\n",
       "                     book_author year_of_publication             publisher  \n",
       "195707            Sidney Sheldon                1993          Warner Books  \n",
       "316032             Kurt Vonnegut                1991                Laurel  \n",
       "728400  William Browning Spencer                1997        White Wolf Pub  \n",
       "316075             Kurt Vonnegut                1991                Laurel  \n",
       "491302             Margaret Weis                2001  Wizards of the Coast  "
      ]
     },
     "execution_count": 272,
     "metadata": {},
     "output_type": "execute_result"
    }
   ],
   "source": [
    "df_all.sort_values(by=[\"book_rating\"], ascending=False).head(5)"
   ]
  },
  {
   "cell_type": "code",
   "execution_count": 273,
   "id": "af1627b7",
   "metadata": {
    "execution": {
     "iopub.execute_input": "2022-09-07T12:55:09.253258Z",
     "iopub.status.busy": "2022-09-07T12:55:09.252772Z",
     "iopub.status.idle": "2022-09-07T12:55:10.117567Z",
     "shell.execute_reply": "2022-09-07T12:55:10.116214Z"
    },
    "papermill": {
     "duration": 0.885133,
     "end_time": "2022-09-07T12:55:10.120582",
     "exception": false,
     "start_time": "2022-09-07T12:55:09.235449",
     "status": "completed"
    },
    "tags": []
   },
   "outputs": [
    {
     "name": "stdout",
     "output_type": "stream",
     "text": [
      "16730\n",
      "101589\n"
     ]
    }
   ],
   "source": [
    "print(len(df_all[\"publisher\"].unique()))\n",
    "print(len(df_all[\"book_author\"].unique()))\n",
    "df_all[\"book_rating\"].unique()\n",
    "df = df_all.copy()"
   ]
  },
  {
   "cell_type": "code",
   "execution_count": 274,
   "id": "05847609",
   "metadata": {
    "execution": {
     "iopub.execute_input": "2022-09-07T12:55:10.155871Z",
     "iopub.status.busy": "2022-09-07T12:55:10.155356Z",
     "iopub.status.idle": "2022-09-07T12:55:10.166274Z",
     "shell.execute_reply": "2022-09-07T12:55:10.164725Z"
    },
    "papermill": {
     "duration": 0.031974,
     "end_time": "2022-09-07T12:55:10.168933",
     "exception": false,
     "start_time": "2022-09-07T12:55:10.136959",
     "status": "completed"
    },
    "tags": []
   },
   "outputs": [
    {
     "data": {
      "text/plain": [
       "user_id                 int64\n",
       "isbn                   object\n",
       "book_rating             int64\n",
       "age                     int32\n",
       "set_country            object\n",
       "book_title             object\n",
       "book_author            object\n",
       "year_of_publication    object\n",
       "publisher              object\n",
       "dtype: object"
      ]
     },
     "execution_count": 274,
     "metadata": {},
     "output_type": "execute_result"
    }
   ],
   "source": [
    "df.dtypes"
   ]
  },
  {
   "cell_type": "code",
   "execution_count": 275,
   "id": "bc9f003a",
   "metadata": {
    "execution": {
     "iopub.execute_input": "2022-09-07T12:55:10.204546Z",
     "iopub.status.busy": "2022-09-07T12:55:10.204114Z",
     "iopub.status.idle": "2022-09-07T12:55:12.132280Z",
     "shell.execute_reply": "2022-09-07T12:55:12.130621Z"
    },
    "papermill": {
     "duration": 1.94941,
     "end_time": "2022-09-07T12:55:12.135309",
     "exception": false,
     "start_time": "2022-09-07T12:55:10.185899",
     "status": "completed"
    },
    "tags": []
   },
   "outputs": [],
   "source": [
    "isbn_enc = LabelEncoder()\n",
    "isbn_enc.fit(df[\"isbn\"].unique())\n",
    "df[\"isbn\"] = isbn_enc.transform(df[\"isbn\"])"
   ]
  },
  {
   "cell_type": "code",
   "execution_count": 276,
   "id": "eb20a63b",
   "metadata": {
    "execution": {
     "iopub.execute_input": "2022-09-07T12:55:12.170755Z",
     "iopub.status.busy": "2022-09-07T12:55:12.170276Z",
     "iopub.status.idle": "2022-09-07T12:55:15.259030Z",
     "shell.execute_reply": "2022-09-07T12:55:15.257904Z"
    },
    "papermill": {
     "duration": 3.109904,
     "end_time": "2022-09-07T12:55:15.262008",
     "exception": false,
     "start_time": "2022-09-07T12:55:12.152104",
     "status": "completed"
    },
    "tags": []
   },
   "outputs": [],
   "source": [
    "le = LabelEncoder()\n",
    "names = [\"set_country\", \"book_title\", \"book_author\", \"publisher\"]\n",
    "\n",
    "for i in names:\n",
    "    df[i] = le.fit_transform(df[i].astype(str))"
   ]
  },
  {
   "cell_type": "code",
   "execution_count": 277,
   "id": "025b8e81",
   "metadata": {
    "execution": {
     "iopub.execute_input": "2022-09-07T12:55:15.297564Z",
     "iopub.status.busy": "2022-09-07T12:55:15.296574Z",
     "iopub.status.idle": "2022-09-07T12:55:15.670713Z",
     "shell.execute_reply": "2022-09-07T12:55:15.669365Z"
    },
    "papermill": {
     "duration": 0.395586,
     "end_time": "2022-09-07T12:55:15.673657",
     "exception": false,
     "start_time": "2022-09-07T12:55:15.278071",
     "status": "completed"
    },
    "tags": []
   },
   "outputs": [],
   "source": [
    "ind = df[df[\"year_of_publication\"] == \"DK Publishing Inc\"].index\n",
    "df.loc[ind, [\"year_of_publication\"]] = 2002\n",
    "df.loc[\n",
    "    df[df[\"year_of_publication\"] == \"Gallimard\"].index, [\"year_of_publication\"]\n",
    "] = 2002\n",
    "df[\"year_of_publication\"] = df[\"year_of_publication\"].astype(int)"
   ]
  },
  {
   "cell_type": "code",
   "execution_count": 278,
   "id": "1bd6984c",
   "metadata": {
    "execution": {
     "iopub.execute_input": "2022-09-07T12:55:15.709914Z",
     "iopub.status.busy": "2022-09-07T12:55:15.709524Z",
     "iopub.status.idle": "2022-09-07T12:55:15.793581Z",
     "shell.execute_reply": "2022-09-07T12:55:15.792194Z"
    },
    "papermill": {
     "duration": 0.105958,
     "end_time": "2022-09-07T12:55:15.796777",
     "exception": false,
     "start_time": "2022-09-07T12:55:15.690819",
     "status": "completed"
    },
    "tags": []
   },
   "outputs": [],
   "source": [
    "data = df.drop([\"book_rating\"], axis=1)\n",
    "label = df[\"book_rating\"]"
   ]
  },
  {
   "cell_type": "code",
   "execution_count": 279,
   "id": "14a99c85",
   "metadata": {
    "execution": {
     "iopub.execute_input": "2022-09-07T12:55:15.832744Z",
     "iopub.status.busy": "2022-09-07T12:55:15.831942Z",
     "iopub.status.idle": "2022-09-07T12:55:16.085336Z",
     "shell.execute_reply": "2022-09-07T12:55:16.084213Z"
    },
    "papermill": {
     "duration": 0.274552,
     "end_time": "2022-09-07T12:55:16.088586",
     "exception": false,
     "start_time": "2022-09-07T12:55:15.814034",
     "status": "completed"
    },
    "tags": []
   },
   "outputs": [
    {
     "name": "stdout",
     "output_type": "stream",
     "text": [
      "(824908, 8) (824908,)\n",
      "(206228, 8) (206228,)\n"
     ]
    }
   ],
   "source": [
    "X_train, X_test, y_train, y_test = train_test_split(\n",
    "    data, label, test_size=0.2, random_state=42\n",
    ")\n",
    "print(X_train.shape, y_train.shape)\n",
    "print(X_test.shape, y_test.shape)"
   ]
  },
  {
   "cell_type": "markdown",
   "id": "c8d63b39",
   "metadata": {},
   "source": [
    "## Model"
   ]
  },
  {
   "cell_type": "code",
   "execution_count": 280,
   "id": "86d1a364",
   "metadata": {
    "execution": {
     "iopub.execute_input": "2022-09-07T12:55:16.133581Z",
     "iopub.status.busy": "2022-09-07T12:55:16.132546Z",
     "iopub.status.idle": "2022-09-07T12:55:41.881544Z",
     "shell.execute_reply": "2022-09-07T12:55:41.879700Z"
    },
    "papermill": {
     "duration": 25.773402,
     "end_time": "2022-09-07T12:55:41.884881",
     "exception": false,
     "start_time": "2022-09-07T12:55:16.111479",
     "status": "completed"
    },
    "tags": []
   },
   "outputs": [
    {
     "name": "stderr",
     "output_type": "stream",
     "text": [
      "C:\\Users\\Mi\\anaconda3\\lib\\site-packages\\sklearn\\base.py:443: UserWarning: X has feature names, but DecisionTreeClassifier was fitted without feature names\n",
      "  warnings.warn(\n",
      "C:\\Users\\Mi\\anaconda3\\lib\\site-packages\\sklearn\\base.py:443: UserWarning: X has feature names, but DecisionTreeClassifier was fitted without feature names\n",
      "  warnings.warn(\n"
     ]
    },
    {
     "name": "stdout",
     "output_type": "stream",
     "text": [
      "[ 0  0 10  0  0]\n",
      "(206228,)\n",
      "test: 0.6074150939736602\n",
      "train: 0.7278157079334908\n"
     ]
    }
   ],
   "source": [
    "tree = DecisionTreeClassifier(criterion=\"entropy\", max_depth=20)\n",
    "tree.fit(X_train.values, y_train.values)\n",
    "\n",
    "y_hat = tree.predict(X_test)\n",
    "print(y_hat[:5])\n",
    "print(y_hat.shape)\n",
    "\n",
    "print(\"test:\", metrics.accuracy_score(y_test, y_hat))\n",
    "print(\"train:\", metrics.accuracy_score(y_train, tree.predict(X_train)))"
   ]
  },
  {
   "cell_type": "code",
   "execution_count": 281,
   "id": "3f2c0637",
   "metadata": {
    "execution": {
     "iopub.execute_input": "2022-09-07T12:55:41.921174Z",
     "iopub.status.busy": "2022-09-07T12:55:41.919773Z",
     "iopub.status.idle": "2022-09-07T12:55:42.377050Z",
     "shell.execute_reply": "2022-09-07T12:55:42.375346Z"
    },
    "papermill": {
     "duration": 0.47767,
     "end_time": "2022-09-07T12:55:42.379828",
     "exception": false,
     "start_time": "2022-09-07T12:55:41.902158",
     "status": "completed"
    },
    "tags": []
   },
   "outputs": [
    {
     "name": "stdout",
     "output_type": "stream",
     "text": [
      "(1031136,) (1031136,)\n",
      "[0. 0. 0. 0. 1.]\n"
     ]
    }
   ],
   "source": [
    "rating = np.array(df[\"book_rating\"])\n",
    "liked = np.zeros(rating.shape[0])\n",
    "print(rating.shape, liked.shape)\n",
    "\n",
    "for i in range(len(rating)):\n",
    "    if rating[i] > 6:\n",
    "        liked[i] = 1\n",
    "    else:\n",
    "        liked[i] = 0\n",
    "print(liked[:5])"
   ]
  },
  {
   "cell_type": "code",
   "execution_count": 282,
   "id": "591fca47",
   "metadata": {
    "execution": {
     "iopub.execute_input": "2022-09-07T12:55:42.419207Z",
     "iopub.status.busy": "2022-09-07T12:55:42.418467Z",
     "iopub.status.idle": "2022-09-07T12:55:42.590509Z",
     "shell.execute_reply": "2022-09-07T12:55:42.589108Z"
    },
    "papermill": {
     "duration": 0.195613,
     "end_time": "2022-09-07T12:55:42.593408",
     "exception": false,
     "start_time": "2022-09-07T12:55:42.397795",
     "status": "completed"
    },
    "tags": []
   },
   "outputs": [
    {
     "name": "stdout",
     "output_type": "stream",
     "text": [
      "(824908, 8) (824908,)\n",
      "(206228, 8) (206228,)\n"
     ]
    }
   ],
   "source": [
    "X_train, X_test, y_train, y_test = train_test_split(\n",
    "    data, liked, test_size=0.2, random_state=42\n",
    ")\n",
    "print(X_train.shape, y_train.shape)\n",
    "print(X_test.shape, y_test.shape)"
   ]
  },
  {
   "cell_type": "markdown",
   "id": "180b9abd",
   "metadata": {},
   "source": [
    "## Training"
   ]
  },
  {
   "cell_type": "code",
   "execution_count": 283,
   "id": "fe8b8bfe",
   "metadata": {
    "execution": {
     "iopub.execute_input": "2022-09-07T12:55:42.630026Z",
     "iopub.status.busy": "2022-09-07T12:55:42.629611Z",
     "iopub.status.idle": "2022-09-07T12:56:00.440731Z",
     "shell.execute_reply": "2022-09-07T12:56:00.439369Z"
    },
    "papermill": {
     "duration": 17.832612,
     "end_time": "2022-09-07T12:56:00.443580",
     "exception": false,
     "start_time": "2022-09-07T12:55:42.610968",
     "status": "completed"
    },
    "tags": []
   },
   "outputs": [
    {
     "name": "stderr",
     "output_type": "stream",
     "text": [
      "C:\\Users\\Mi\\anaconda3\\lib\\site-packages\\sklearn\\base.py:443: UserWarning: X has feature names, but DecisionTreeClassifier was fitted without feature names\n",
      "  warnings.warn(\n",
      "C:\\Users\\Mi\\anaconda3\\lib\\site-packages\\sklearn\\base.py:443: UserWarning: X has feature names, but DecisionTreeClassifier was fitted without feature names\n",
      "  warnings.warn(\n"
     ]
    },
    {
     "name": "stdout",
     "output_type": "stream",
     "text": [
      "[0. 0. 1. 0. 0.]\n",
      "(206228,)\n",
      "test: 0.7287031828849623\n",
      "train: 0.7440429720647636\n"
     ]
    }
   ],
   "source": [
    "tree = DecisionTreeClassifier(criterion=\"entropy\", max_depth=15)\n",
    "tree.fit(X_train.values, y_train)\n",
    "\n",
    "y_hat = tree.predict(X_test)\n",
    "print(y_hat[:5])\n",
    "print(y_hat.shape)\n",
    "\n",
    "print(\"test:\", metrics.accuracy_score(y_test, y_hat))\n",
    "print(\"train:\", metrics.accuracy_score(y_train, tree.predict(X_train)))"
   ]
  },
  {
   "cell_type": "code",
   "execution_count": 284,
   "id": "c06ff6a7",
   "metadata": {
    "execution": {
     "iopub.execute_input": "2022-09-07T12:56:00.479791Z",
     "iopub.status.busy": "2022-09-07T12:56:00.479380Z",
     "iopub.status.idle": "2022-09-07T12:56:00.818464Z",
     "shell.execute_reply": "2022-09-07T12:56:00.817278Z"
    },
    "papermill": {
     "duration": 0.360583,
     "end_time": "2022-09-07T12:56:00.821467",
     "exception": false,
     "start_time": "2022-09-07T12:56:00.460884",
     "status": "completed"
    },
    "tags": []
   },
   "outputs": [],
   "source": [
    "bestfeatures = SelectKBest(score_func=chi2, k=5)\n",
    "fit = bestfeatures.fit(data, liked)\n",
    "\n",
    "\n",
    "dfscores = pd.DataFrame(fit.scores_)\n",
    "dfcolumns = pd.DataFrame(data.columns)\n",
    "\n",
    "featurescores = pd.concat([dfscores, dfcolumns], axis=1)\n",
    "\n",
    "featurescores.columns = [\"scores\", \"feature\"]"
   ]
  },
  {
   "cell_type": "code",
   "execution_count": 285,
   "id": "a944c9aa",
   "metadata": {
    "execution": {
     "iopub.execute_input": "2022-09-07T12:56:00.857425Z",
     "iopub.status.busy": "2022-09-07T12:56:00.856978Z",
     "iopub.status.idle": "2022-09-07T12:56:00.871903Z",
     "shell.execute_reply": "2022-09-07T12:56:00.870380Z"
    },
    "papermill": {
     "duration": 0.035936,
     "end_time": "2022-09-07T12:56:00.874503",
     "exception": false,
     "start_time": "2022-09-07T12:56:00.838567",
     "status": "completed"
    },
    "tags": []
   },
   "outputs": [
    {
     "data": {
      "text/html": [
       "<div>\n",
       "<style scoped>\n",
       "    .dataframe tbody tr th:only-of-type {\n",
       "        vertical-align: middle;\n",
       "    }\n",
       "\n",
       "    .dataframe tbody tr th {\n",
       "        vertical-align: top;\n",
       "    }\n",
       "\n",
       "    .dataframe thead th {\n",
       "        text-align: right;\n",
       "    }\n",
       "</style>\n",
       "<table border=\"1\" class=\"dataframe\">\n",
       "  <thead>\n",
       "    <tr style=\"text-align: right;\">\n",
       "      <th></th>\n",
       "      <th>scores</th>\n",
       "      <th>feature</th>\n",
       "    </tr>\n",
       "  </thead>\n",
       "  <tbody>\n",
       "    <tr>\n",
       "      <th>0</th>\n",
       "      <td>7.641242e+07</td>\n",
       "      <td>user_id</td>\n",
       "    </tr>\n",
       "    <tr>\n",
       "      <th>1</th>\n",
       "      <td>3.321029e+07</td>\n",
       "      <td>isbn</td>\n",
       "    </tr>\n",
       "    <tr>\n",
       "      <th>5</th>\n",
       "      <td>1.383029e+05</td>\n",
       "      <td>book_author</td>\n",
       "    </tr>\n",
       "    <tr>\n",
       "      <th>3</th>\n",
       "      <td>2.605263e+04</td>\n",
       "      <td>set_country</td>\n",
       "    </tr>\n",
       "    <tr>\n",
       "      <th>7</th>\n",
       "      <td>1.809507e+04</td>\n",
       "      <td>publisher</td>\n",
       "    </tr>\n",
       "    <tr>\n",
       "      <th>6</th>\n",
       "      <td>1.385075e+03</td>\n",
       "      <td>year_of_publication</td>\n",
       "    </tr>\n",
       "    <tr>\n",
       "      <th>2</th>\n",
       "      <td>5.543276e+02</td>\n",
       "      <td>age</td>\n",
       "    </tr>\n",
       "    <tr>\n",
       "      <th>4</th>\n",
       "      <td>9.589359e+01</td>\n",
       "      <td>book_title</td>\n",
       "    </tr>\n",
       "  </tbody>\n",
       "</table>\n",
       "</div>"
      ],
      "text/plain": [
       "         scores              feature\n",
       "0  7.641242e+07              user_id\n",
       "1  3.321029e+07                 isbn\n",
       "5  1.383029e+05          book_author\n",
       "3  2.605263e+04          set_country\n",
       "7  1.809507e+04            publisher\n",
       "6  1.385075e+03  year_of_publication\n",
       "2  5.543276e+02                  age\n",
       "4  9.589359e+01           book_title"
      ]
     },
     "execution_count": 285,
     "metadata": {},
     "output_type": "execute_result"
    }
   ],
   "source": [
    "featurescores.nlargest(8, \"scores\")"
   ]
  },
  {
   "cell_type": "code",
   "execution_count": 286,
   "id": "4c503bc2",
   "metadata": {
    "execution": {
     "iopub.execute_input": "2022-09-07T12:56:00.910777Z",
     "iopub.status.busy": "2022-09-07T12:56:00.910382Z",
     "iopub.status.idle": "2022-09-07T12:56:00.932018Z",
     "shell.execute_reply": "2022-09-07T12:56:00.930546Z"
    },
    "papermill": {
     "duration": 0.04293,
     "end_time": "2022-09-07T12:56:00.934549",
     "exception": false,
     "start_time": "2022-09-07T12:56:00.891619",
     "status": "completed"
    },
    "tags": []
   },
   "outputs": [],
   "source": [
    "data_feat = data[[\"user_id\", \"isbn\", \"book_author\", \"set_country\", \"publisher\"]]"
   ]
  },
  {
   "cell_type": "code",
   "execution_count": 287,
   "id": "935207cc",
   "metadata": {
    "execution": {
     "iopub.execute_input": "2022-09-07T12:56:00.970502Z",
     "iopub.status.busy": "2022-09-07T12:56:00.970109Z",
     "iopub.status.idle": "2022-09-07T12:56:01.097726Z",
     "shell.execute_reply": "2022-09-07T12:56:01.096178Z"
    },
    "papermill": {
     "duration": 0.149955,
     "end_time": "2022-09-07T12:56:01.101310",
     "exception": false,
     "start_time": "2022-09-07T12:56:00.951355",
     "status": "completed"
    },
    "tags": []
   },
   "outputs": [
    {
     "name": "stdout",
     "output_type": "stream",
     "text": [
      "(824908, 5) (824908,)\n",
      "(206228, 5) (206228,)\n"
     ]
    }
   ],
   "source": [
    "X_train, X_test, y_train, y_test = train_test_split(\n",
    "    data_feat, liked, test_size=0.2, random_state=42\n",
    ")\n",
    "print(X_train.shape, y_train.shape)\n",
    "print(X_test.shape, y_test.shape)"
   ]
  },
  {
   "cell_type": "code",
   "execution_count": 288,
   "id": "02bf4473",
   "metadata": {
    "execution": {
     "iopub.execute_input": "2022-09-07T12:56:01.137475Z",
     "iopub.status.busy": "2022-09-07T12:56:01.137079Z",
     "iopub.status.idle": "2022-09-07T12:56:12.992719Z",
     "shell.execute_reply": "2022-09-07T12:56:12.990916Z"
    },
    "papermill": {
     "duration": 11.876307,
     "end_time": "2022-09-07T12:56:12.995075",
     "exception": false,
     "start_time": "2022-09-07T12:56:01.118768",
     "status": "completed"
    },
    "tags": []
   },
   "outputs": [
    {
     "name": "stderr",
     "output_type": "stream",
     "text": [
      "C:\\Users\\Mi\\anaconda3\\lib\\site-packages\\sklearn\\base.py:443: UserWarning: X has feature names, but DecisionTreeClassifier was fitted without feature names\n",
      "  warnings.warn(\n",
      "C:\\Users\\Mi\\anaconda3\\lib\\site-packages\\sklearn\\base.py:443: UserWarning: X has feature names, but DecisionTreeClassifier was fitted without feature names\n",
      "  warnings.warn(\n"
     ]
    },
    {
     "name": "stdout",
     "output_type": "stream",
     "text": [
      "[0. 0. 1. 0. 0.]\n",
      "(206228,)\n",
      "test: 0.7290571600364645\n",
      "train: 0.7426270565929777\n"
     ]
    }
   ],
   "source": [
    "tree = DecisionTreeClassifier(criterion=\"entropy\", max_depth=15)\n",
    "tree.fit(X_train.values, y_train)\n",
    "\n",
    "y_hat = tree.predict(X_test)\n",
    "print(y_hat[:5])\n",
    "print(y_hat.shape)\n",
    "\n",
    "print(\"test:\", metrics.accuracy_score(y_test, y_hat))\n",
    "print(\"train:\", metrics.accuracy_score(y_train, tree.predict(X_train)))"
   ]
  },
  {
   "cell_type": "code",
   "execution_count": 289,
   "id": "e4522fee",
   "metadata": {
    "execution": {
     "iopub.execute_input": "2022-09-07T12:56:13.032000Z",
     "iopub.status.busy": "2022-09-07T12:56:13.031620Z",
     "iopub.status.idle": "2022-09-07T12:56:13.038528Z",
     "shell.execute_reply": "2022-09-07T12:56:13.037016Z"
    },
    "papermill": {
     "duration": 0.029362,
     "end_time": "2022-09-07T12:56:13.041789",
     "exception": false,
     "start_time": "2022-09-07T12:56:13.012427",
     "status": "completed"
    },
    "tags": []
   },
   "outputs": [
    {
     "name": "stdout",
     "output_type": "stream",
     "text": [
      "(206228, 1)\n",
      "(206228, 5)\n"
     ]
    }
   ],
   "source": [
    "liked = pd.DataFrame(y_hat, columns=[\"liked\"])\n",
    "print(liked.shape)\n",
    "print(X_test.shape)"
   ]
  },
  {
   "cell_type": "markdown",
   "id": "fe9ccf42",
   "metadata": {},
   "source": [
    "## Testing"
   ]
  },
  {
   "cell_type": "code",
   "execution_count": 290,
   "id": "9b8d8658",
   "metadata": {
    "execution": {
     "iopub.execute_input": "2022-09-07T12:56:13.079403Z",
     "iopub.status.busy": "2022-09-07T12:56:13.078892Z",
     "iopub.status.idle": "2022-09-07T12:56:13.105959Z",
     "shell.execute_reply": "2022-09-07T12:56:13.104687Z"
    },
    "papermill": {
     "duration": 0.048523,
     "end_time": "2022-09-07T12:56:13.108541",
     "exception": false,
     "start_time": "2022-09-07T12:56:13.060018",
     "status": "completed"
    },
    "tags": []
   },
   "outputs": [
    {
     "data": {
      "text/html": [
       "<div>\n",
       "<style scoped>\n",
       "    .dataframe tbody tr th:only-of-type {\n",
       "        vertical-align: middle;\n",
       "    }\n",
       "\n",
       "    .dataframe tbody tr th {\n",
       "        vertical-align: top;\n",
       "    }\n",
       "\n",
       "    .dataframe thead th {\n",
       "        text-align: right;\n",
       "    }\n",
       "</style>\n",
       "<table border=\"1\" class=\"dataframe\">\n",
       "  <thead>\n",
       "    <tr style=\"text-align: right;\">\n",
       "      <th></th>\n",
       "      <th>user_id</th>\n",
       "      <th>isbn</th>\n",
       "      <th>book_author</th>\n",
       "      <th>set_country</th>\n",
       "      <th>publisher</th>\n",
       "      <th>liked</th>\n",
       "    </tr>\n",
       "  </thead>\n",
       "  <tbody>\n",
       "    <tr>\n",
       "      <th>0</th>\n",
       "      <td>162886</td>\n",
       "      <td>149755</td>\n",
       "      <td>38969</td>\n",
       "      <td>302</td>\n",
       "      <td>6654</td>\n",
       "      <td>0.0</td>\n",
       "    </tr>\n",
       "    <tr>\n",
       "      <th>1</th>\n",
       "      <td>11676</td>\n",
       "      <td>36791</td>\n",
       "      <td>80798</td>\n",
       "      <td>255</td>\n",
       "      <td>14026</td>\n",
       "      <td>0.0</td>\n",
       "    </tr>\n",
       "    <tr>\n",
       "      <th>2</th>\n",
       "      <td>78973</td>\n",
       "      <td>121709</td>\n",
       "      <td>18364</td>\n",
       "      <td>302</td>\n",
       "      <td>1414</td>\n",
       "      <td>1.0</td>\n",
       "    </tr>\n",
       "    <tr>\n",
       "      <th>3</th>\n",
       "      <td>14521</td>\n",
       "      <td>118284</td>\n",
       "      <td>83391</td>\n",
       "      <td>387</td>\n",
       "      <td>1418</td>\n",
       "      <td>0.0</td>\n",
       "    </tr>\n",
       "    <tr>\n",
       "      <th>4</th>\n",
       "      <td>277427</td>\n",
       "      <td>36058</td>\n",
       "      <td>66152</td>\n",
       "      <td>387</td>\n",
       "      <td>14028</td>\n",
       "      <td>0.0</td>\n",
       "    </tr>\n",
       "  </tbody>\n",
       "</table>\n",
       "</div>"
      ],
      "text/plain": [
       "   user_id    isbn  book_author  set_country  publisher  liked\n",
       "0   162886  149755        38969          302       6654    0.0\n",
       "1    11676   36791        80798          255      14026    0.0\n",
       "2    78973  121709        18364          302       1414    1.0\n",
       "3    14521  118284        83391          387       1418    0.0\n",
       "4   277427   36058        66152          387      14028    0.0"
      ]
     },
     "execution_count": 290,
     "metadata": {},
     "output_type": "execute_result"
    }
   ],
   "source": [
    "X = X_test.copy()\n",
    "\n",
    "X.set_index(liked.index)\n",
    "\n",
    "X.reset_index(drop=True, inplace=True)\n",
    "liked.reset_index(drop=True, inplace=True)\n",
    "\n",
    "end = pd.concat([X, liked], axis=1)\n",
    "\n",
    "end.head()"
   ]
  },
  {
   "cell_type": "code",
   "execution_count": 301,
   "id": "b5cb4525",
   "metadata": {
    "execution": {
     "iopub.execute_input": "2022-09-07T12:56:13.145972Z",
     "iopub.status.busy": "2022-09-07T12:56:13.145409Z",
     "iopub.status.idle": "2022-09-07T12:56:13.209916Z",
     "shell.execute_reply": "2022-09-07T12:56:13.208433Z"
    },
    "papermill": {
     "duration": 0.086799,
     "end_time": "2022-09-07T12:56:13.212767",
     "exception": false,
     "start_time": "2022-09-07T12:56:13.125968",
     "status": "completed"
    },
    "tags": []
   },
   "outputs": [],
   "source": [
    "end[\"no\"] = isbn_enc.inverse_transform(end[\"isbn\"])\n",
    "\n",
    "u = end[end[\"liked\"] == 1][\"user_id\"].unique()\n",
    "mask = (end[\"liked\"] == 1) & (end[\"user_id\"] == u[0])\n",
    "\n",
    "recommend = end[mask][\"no\"]\n",
    "recommend\n",
    "\n",
    "select = np.array(recommend)"
   ]
  },
  {
   "cell_type": "code",
   "execution_count": 303,
   "id": "1af6f43e",
   "metadata": {
    "execution": {
     "iopub.execute_input": "2022-09-07T12:56:13.466508Z",
     "iopub.status.busy": "2022-09-07T12:56:13.466017Z",
     "iopub.status.idle": "2022-09-07T12:56:13.499316Z",
     "shell.execute_reply": "2022-09-07T12:56:13.498041Z"
    },
    "papermill": {
     "duration": 0.055804,
     "end_time": "2022-09-07T12:56:13.501988",
     "exception": false,
     "start_time": "2022-09-07T12:56:13.446184",
     "status": "completed"
    },
    "tags": []
   },
   "outputs": [
    {
     "data": {
      "text/html": [
       "<div>\n",
       "<style scoped>\n",
       "    .dataframe tbody tr th:only-of-type {\n",
       "        vertical-align: middle;\n",
       "    }\n",
       "\n",
       "    .dataframe tbody tr th {\n",
       "        vertical-align: top;\n",
       "    }\n",
       "\n",
       "    .dataframe thead th {\n",
       "        text-align: right;\n",
       "    }\n",
       "</style>\n",
       "<table border=\"1\" class=\"dataframe\">\n",
       "  <thead>\n",
       "    <tr style=\"text-align: right;\">\n",
       "      <th></th>\n",
       "      <th>isbn</th>\n",
       "      <th>book_title</th>\n",
       "      <th>book_author</th>\n",
       "      <th>year_of_publication</th>\n",
       "      <th>publisher</th>\n",
       "      <th>image_url_s</th>\n",
       "      <th>image_url_m</th>\n",
       "      <th>image_url_l</th>\n",
       "    </tr>\n",
       "  </thead>\n",
       "  <tbody>\n",
       "    <tr>\n",
       "      <th>136</th>\n",
       "      <td>0671004573</td>\n",
       "      <td>Before I Say Good-Bye</td>\n",
       "      <td>Mary Higgins Clark</td>\n",
       "      <td>2001</td>\n",
       "      <td>Pocket</td>\n",
       "      <td>http://images.amazon.com/images/P/0671004573.0...</td>\n",
       "      <td>http://images.amazon.com/images/P/0671004573.0...</td>\n",
       "      <td>http://images.amazon.com/images/P/0671004573.0...</td>\n",
       "    </tr>\n",
       "    <tr>\n",
       "      <th>154</th>\n",
       "      <td>0140252800</td>\n",
       "      <td>The Brimstone Wedding</td>\n",
       "      <td>Barbara Vine</td>\n",
       "      <td>1997</td>\n",
       "      <td>Penguin Books Ltd</td>\n",
       "      <td>http://images.amazon.com/images/P/0140252800.0...</td>\n",
       "      <td>http://images.amazon.com/images/P/0140252800.0...</td>\n",
       "      <td>http://images.amazon.com/images/P/0140252800.0...</td>\n",
       "    </tr>\n",
       "    <tr>\n",
       "      <th>281</th>\n",
       "      <td>0440241413</td>\n",
       "      <td>Confessions of a Shopaholic</td>\n",
       "      <td>SOPHIE KINSELLA</td>\n",
       "      <td>2003</td>\n",
       "      <td>Dell</td>\n",
       "      <td>http://images.amazon.com/images/P/0440241413.0...</td>\n",
       "      <td>http://images.amazon.com/images/P/0440241413.0...</td>\n",
       "      <td>http://images.amazon.com/images/P/0440241413.0...</td>\n",
       "    </tr>\n",
       "    <tr>\n",
       "      <th>763</th>\n",
       "      <td>0743206045</td>\n",
       "      <td>Daddy's Little Girl</td>\n",
       "      <td>Mary Higgins Clark</td>\n",
       "      <td>2002</td>\n",
       "      <td>Simon &amp;amp; Schuster</td>\n",
       "      <td>http://images.amazon.com/images/P/0743206045.0...</td>\n",
       "      <td>http://images.amazon.com/images/P/0743206045.0...</td>\n",
       "      <td>http://images.amazon.com/images/P/0743206045.0...</td>\n",
       "    </tr>\n",
       "    <tr>\n",
       "      <th>995</th>\n",
       "      <td>0425166619</td>\n",
       "      <td>Toxin</td>\n",
       "      <td>Robin Cook</td>\n",
       "      <td>1999</td>\n",
       "      <td>Berkley Publishing Group</td>\n",
       "      <td>http://images.amazon.com/images/P/0425166619.0...</td>\n",
       "      <td>http://images.amazon.com/images/P/0425166619.0...</td>\n",
       "      <td>http://images.amazon.com/images/P/0425166619.0...</td>\n",
       "    </tr>\n",
       "  </tbody>\n",
       "</table>\n",
       "</div>"
      ],
      "text/plain": [
       "           isbn                   book_title         book_author  \\\n",
       "136  0671004573        Before I Say Good-Bye  Mary Higgins Clark   \n",
       "154  0140252800        The Brimstone Wedding        Barbara Vine   \n",
       "281  0440241413  Confessions of a Shopaholic     SOPHIE KINSELLA   \n",
       "763  0743206045          Daddy's Little Girl  Mary Higgins Clark   \n",
       "995  0425166619                        Toxin          Robin Cook   \n",
       "\n",
       "    year_of_publication                 publisher  \\\n",
       "136                2001                    Pocket   \n",
       "154                1997         Penguin Books Ltd   \n",
       "281                2003                      Dell   \n",
       "763                2002      Simon &amp; Schuster   \n",
       "995                1999  Berkley Publishing Group   \n",
       "\n",
       "                                           image_url_s  \\\n",
       "136  http://images.amazon.com/images/P/0671004573.0...   \n",
       "154  http://images.amazon.com/images/P/0140252800.0...   \n",
       "281  http://images.amazon.com/images/P/0440241413.0...   \n",
       "763  http://images.amazon.com/images/P/0743206045.0...   \n",
       "995  http://images.amazon.com/images/P/0425166619.0...   \n",
       "\n",
       "                                           image_url_m  \\\n",
       "136  http://images.amazon.com/images/P/0671004573.0...   \n",
       "154  http://images.amazon.com/images/P/0140252800.0...   \n",
       "281  http://images.amazon.com/images/P/0440241413.0...   \n",
       "763  http://images.amazon.com/images/P/0743206045.0...   \n",
       "995  http://images.amazon.com/images/P/0425166619.0...   \n",
       "\n",
       "                                           image_url_l  \n",
       "136  http://images.amazon.com/images/P/0671004573.0...  \n",
       "154  http://images.amazon.com/images/P/0140252800.0...  \n",
       "281  http://images.amazon.com/images/P/0440241413.0...  \n",
       "763  http://images.amazon.com/images/P/0743206045.0...  \n",
       "995  http://images.amazon.com/images/P/0425166619.0...  "
      ]
     },
     "execution_count": 303,
     "metadata": {},
     "output_type": "execute_result"
    }
   ],
   "source": [
    "df_book[df_book[\"isbn\"].isin(select)].head()"
   ]
  }
 ],
 "metadata": {
  "kernelspec": {
   "display_name": "Python 3.10.8 64-bit (microsoft store)",
   "language": "python",
   "name": "python3"
  },
  "language_info": {
   "codemirror_mode": {
    "name": "ipython",
    "version": 3
   },
   "file_extension": ".py",
   "mimetype": "text/x-python",
   "name": "python",
   "nbconvert_exporter": "python",
   "pygments_lexer": "ipython3",
   "version": "3.10.8"
  },
  "papermill": {
   "default_parameters": {},
   "duration": 86.964104,
   "end_time": "2022-09-07T12:56:15.085295",
   "environment_variables": {},
   "exception": null,
   "input_path": "__notebook__.ipynb",
   "output_path": "__notebook__.ipynb",
   "parameters": {},
   "start_time": "2022-09-07T12:54:48.121191",
   "version": "2.3.4"
  },
  "vscode": {
   "interpreter": {
    "hash": "04a2fd1d865969964f597cc069d7d540508e869d83f54a868dd068f95ed31db8"
   }
  }
 },
 "nbformat": 4,
 "nbformat_minor": 5
}
